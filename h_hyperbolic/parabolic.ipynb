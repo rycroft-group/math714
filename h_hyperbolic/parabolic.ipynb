{
 "cells": [
  {
   "cell_type": "markdown",
   "id": "b5274569",
   "metadata": {},
   "source": [
    "[![Open In Colab](https://colab.research.google.com/assets/colab-badge.svg)](https://colab.research.google.com/github/rycroft-group/math714/blob/main/h_hyperbolic/hyperbolic.ipynb)"
   ]
  },
  {
   "cell_type": "code",
   "execution_count": null,
   "id": "20f52052",
   "metadata": {},
   "outputs": [],
   "source": [
    "import numpy as np\n",
    "import matplotlib.pyplot as plt\n",
    "from math import exp\n",
    "\n",
    "# Optional: a library for plotting with LaTeX-like \n",
    "# styles nicer formatted figures\n",
    "# Warning: need to have LaTeX installed\n",
    "import scienceplots\n",
    "plt.style.use(['science'])"
   ]
  },
  {
   "cell_type": "markdown",
   "id": "98085ef5",
   "metadata": {},
   "source": [
    "# Hyperbolic equations"
   ]
  },
  {
   "cell_type": "markdown",
   "id": "84a3d01b",
   "metadata": {},
   "source": [
    "## Linear advection equation"
   ]
  },
  {
   "cell_type": "markdown",
   "id": "4b22fd71",
   "metadata": {},
   "source": [
    "We will solve for the linear advection equation\n",
    "$$\n",
    "u_t + c u_{x} = 0\n",
    "$$\n",
    "with the upwinding method and the central difference method."
   ]
  },
  {
   "cell_type": "markdown",
   "id": "f519fef2",
   "metadata": {},
   "source": [
    "### Setup"
   ]
  },
  {
   "cell_type": "code",
   "execution_count": null,
   "id": "9b3a56b5",
   "metadata": {},
   "outputs": [],
   "source": [
    "# Grid size\n",
    "m = 64\n",
    "a = np.empty((m))\n",
    "b = np.empty((m))\n",
    "snaps = 40 #100\n",
    "iters = 10 #40\n",
    "z = np.empty((m, snaps+1))\n",
    "\n",
    "# PDE-related constants; try switching c to -0.1 to see the\n",
    "# unstable scheme\n",
    "c = 0.1 # try: -0.1 for upwinding\n",
    "dx = 1.0/m\n",
    "dt = 0.01\n",
    "nu = c*dt/dx\n",
    "\n",
    "# Initial condition\n",
    "for i in range(m):\n",
    "    x = dx*i\n",
    "    a[i] = exp(-20*(x-0.5)**2)\n",
    "z[:, 0] = a"
   ]
  },
  {
   "cell_type": "markdown",
   "id": "6bf01224",
   "metadata": {},
   "source": [
    "### Integrate the PDE"
   ]
  },
  {
   "cell_type": "code",
   "execution_count": null,
   "id": "6138bffd",
   "metadata": {},
   "outputs": [],
   "source": [
    "# Integrate the PDE using upwinding method\n",
    "for i in range(1,snaps+1):\n",
    "    for k in range(iters):\n",
    "        for j in range(m):\n",
    "            jl=j-1\n",
    "            if jl<0: jl+=m\n",
    "            b[j]=(1-nu)*a[j]+nu*a[jl]\n",
    "        a=np.copy(b)\n",
    "    z[:,i]=a"
   ]
  },
  {
   "cell_type": "code",
   "execution_count": null,
   "id": "c50182bf",
   "metadata": {},
   "outputs": [],
   "source": [
    "# Upwinding\n",
    "results_up = []\n",
    "# Output results\n",
    "for j in range(m):\n",
    "    e=[str(j*dx)]\n",
    "    for i in range(snaps+1):\n",
    "        e.append(str(z[j,i]))\n",
    "    results_up.append(e)\n",
    "    print(\" \".join(e))"
   ]
  },
  {
   "cell_type": "code",
   "execution_count": null,
   "id": "82bf7c5b",
   "metadata": {},
   "outputs": [],
   "source": [
    "# Integrate the PDE using centered differencing\n",
    "for i in range(1,snaps+1):\n",
    "    for k in range(iters):\n",
    "        for j in range(m):\n",
    "            jl=j-1\n",
    "            if jl<0: jl+=m\n",
    "            jr=j+1\n",
    "            if jr>=m: jr-=m\n",
    "\n",
    "            b[j]=a[j]-0.5*nu*(a[jr]-a[jl])\n",
    "        a=np.copy(b)\n",
    "    z[:,i]=a"
   ]
  },
  {
   "cell_type": "code",
   "execution_count": null,
   "id": "682f6b87",
   "metadata": {},
   "outputs": [],
   "source": [
    "# Central difference\n",
    "results_cd = []\n",
    "# Output results\n",
    "for j in range(m):\n",
    "    e=[str(j*dx)]\n",
    "    for i in range(snaps+1):\n",
    "        e.append(str(z[j,i]))\n",
    "    results_cd.append(e)\n",
    "    print(\" \".join(e))"
   ]
  },
  {
   "cell_type": "markdown",
   "id": "05d1de99",
   "metadata": {},
   "source": [
    "### Visualize"
   ]
  },
  {
   "cell_type": "code",
   "execution_count": null,
   "id": "c5e41a7d",
   "metadata": {},
   "outputs": [],
   "source": [
    "fig, ax = plt.subplots(figsize=(8, 6), dpi=300)\n",
    "\n",
    "results_up = np.array(results_up, dtype=float)\n",
    "colors = plt.cm.viridis(np.linspace(0, 1, snaps+1))\n",
    "\n",
    "for i in range(1, snaps+1):\n",
    "    ax.plot(results_up[:, 0], results_up[:, i],\n",
    "            label=f't={i*dt*iters:.2f}', color=colors[i])\n",
    "\n",
    "# Formatting\n",
    "ax.set_xlabel('$x$')\n",
    "ax.set_ylabel('$u(x,t)$')\n",
    "sm = plt.cm.ScalarMappable(cmap='viridis', norm=plt.Normalize(vmin=0, vmax=snaps*dt*iters))\n",
    "sm.set_array([])\n",
    "cbar = plt.colorbar(sm, ax=ax, label='Time')\n",
    "\n",
    "plt.show()"
   ]
  },
  {
   "cell_type": "code",
   "execution_count": null,
   "id": "eb0f9f74",
   "metadata": {},
   "outputs": [],
   "source": [
    "fig = plt.figure(figsize=(10, 8), dpi=300)\n",
    "ax = fig.add_subplot(111, projection='3d')\n",
    "\n",
    "# Prepare data for the 3D plot\n",
    "X = np.linspace(0, 1, m)  # spatial dimension\n",
    "T = np.linspace(0, snaps * dt * iters, snaps + 1)  # time dimension\n",
    "X, T = np.meshgrid(X, T)\n",
    "Z = z.T  # transpose z to match the dimensions of X and T\n",
    "\n",
    "surf = ax.plot_surface(X, T, Z, cmap='inferno', edgecolor='none')\n",
    "\n",
    "# Formatting\n",
    "ax.set_xlabel('$x$')\n",
    "ax.set_ylabel('$t$')\n",
    "ax.set_zlabel('$u(x,t)$')\n",
    "fig.colorbar(surf, ax=ax, label='Temperature', shrink=0.5)\n",
    "\n",
    "plt.show()"
   ]
  },
  {
   "cell_type": "code",
   "execution_count": null,
   "id": "5e938aeb",
   "metadata": {},
   "outputs": [],
   "source": []
  }
 ],
 "metadata": {
  "kernelspec": {
   "display_name": ".venv",
   "language": "python",
   "name": "python3"
  },
  "language_info": {
   "codemirror_mode": {
    "name": "ipython",
    "version": 3
   },
   "file_extension": ".py",
   "mimetype": "text/x-python",
   "name": "python",
   "nbconvert_exporter": "python",
   "pygments_lexer": "ipython3",
   "version": "3.13.3"
  }
 },
 "nbformat": 4,
 "nbformat_minor": 5
}
