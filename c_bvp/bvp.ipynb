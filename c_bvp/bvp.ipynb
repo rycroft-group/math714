{
 "cells": [
  {
   "cell_type": "markdown",
   "id": "3635c38a",
   "metadata": {},
   "source": [
    "[![Open In Colab](https://colab.research.google.com/assets/colab-badge.svg)](https://colab.research.google.com/github/rycroft-group/math714/blob/main/c_bvp/bvp.ipynb)"
   ]
  },
  {
   "cell_type": "code",
   "execution_count": null,
   "id": "0401783c",
   "metadata": {},
   "outputs": [],
   "source": [
    "# Necessity libraries\n",
    "import numpy as np\n",
    "import matplotlib.pyplot as plt\n",
    "from math import *\n",
    "from scipy.optimize import fsolve\n",
    "from copy import deepcopy\n",
    "\n",
    "# Optional: a library for plotting with LaTeX-like \n",
    "# styles nicer formatted figures\n",
    "# Warning: need to have LaTeX installed\n",
    "import scienceplots\n",
    "plt.style.use(['science'])"
   ]
  },
  {
   "cell_type": "markdown",
   "id": "f8eea791",
   "metadata": {},
   "source": [
    "# Boundary value problem"
   ]
  },
  {
   "cell_type": "markdown",
   "id": "6e50f86f",
   "metadata": {},
   "source": [
    "## Method of manufactured solutions"
   ]
  },
  {
   "cell_type": "markdown",
   "id": "9e11af4a",
   "metadata": {},
   "source": [
    "Suppose we wish to measure numerical error of our equation\n",
    "$$\n",
    "u'' = f\n",
    "$$\n",
    "where $u(0) = \\alpha$ and $u(1) = \\beta$.\n",
    "\n",
    "One approach is to write down an exact analytical solution, such as when $f(x) = 1$ then\n",
    "$$\n",
    "u(x) = \\frac{x(x-1)}{2}\n",
    "$$\n",
    "with $u(0) = u(1) = 0$. Then we can compare our numerical solution to this analytical one.\n",
    "\n",
    "_But for more complicated equations, it may not be possible to construct an analytical solution._\n",
    "\n",
    "In this case, we can use the __method of manufactured solutions__:\n",
    "- Choose a solution $u$ that satisfies the boundary conditions. Then substitute into the ODE to obtain $f$.\n",
    "- Compute the numerical approximation with the given $f$, and use it to calculate the error.\n",
    "\n",
    "For example, let us try\n",
    "$$\n",
    "u(x) = e^{\\cos(\\pi x)}.\n",
    "$$\n",
    "Then\n",
    "$$\n",
    "u'(x) = -\\pi \\sin(\\pi x) e^{\\cos(\\pi x)}\n",
    "$$\n",
    "and\n",
    "$$\n",
    "f(x) = u''(x) = \\pi^2 e^{\\cos(\\pi x)} \\left( \\sin^2(\\pi x) - \\cos(\\pi x) \\right).\n",
    "$$\n",
    "The corresponding boundary conditions are\n",
    "$$\n",
    "u(0) = e, u(1) = e^{-1}.\n",
    "$$"
   ]
  },
  {
   "cell_type": "markdown",
   "id": "313fa92e",
   "metadata": {},
   "source": [
    "### Setting up the matrix"
   ]
  },
  {
   "cell_type": "code",
   "execution_count": null,
   "id": "cbdc9630",
   "metadata": {},
   "outputs": [],
   "source": [
    "# Boundary condition values\n",
    "al = exp(1)\n",
    "be = exp(-1)\n",
    "\n",
    "# Set grid resolution\n",
    "m = 49\n",
    "h = 1/(m+1)\n",
    "x = np.linspace(h, 1-h, m)\n",
    "\n",
    "# Generate the centered difference differentiation matrix for u''\n",
    "f = 1/(h*h)\n",
    "A = np.diag(-np.ones(m)*f*2)+np.diag(np.ones(m-1)*f, 1) + \\\n",
    "    np.diag(np.ones(m-1)*f, -1)"
   ]
  },
  {
   "cell_type": "markdown",
   "id": "2ba0ca89",
   "metadata": {},
   "source": [
    "What does matrix $A$ look like? Let us visualize it."
   ]
  },
  {
   "cell_type": "code",
   "execution_count": null,
   "id": "8e4e21d9",
   "metadata": {},
   "outputs": [],
   "source": [
    "plt.spy(A)\n",
    "plt.show()"
   ]
  },
  {
   "cell_type": "markdown",
   "id": "b602d3c7",
   "metadata": {},
   "source": [
    "It is indeed a sparse matrix with only entries along the diagonals."
   ]
  },
  {
   "cell_type": "markdown",
   "id": "6210ab39",
   "metadata": {},
   "source": [
    "### Solving for the matrix equation"
   ]
  },
  {
   "cell_type": "code",
   "execution_count": null,
   "id": "0188bb7a",
   "metadata": {},
   "outputs": [],
   "source": [
    "# Define the right-hand side vector\n",
    "F = np.array([pi*pi*exp(cos(pi*z))*(sin(pi*z)**2-cos(pi*z)) for z in x])\n",
    "\n",
    "# Modify the first and last entries of F to handle the Dirichlet conditions\n",
    "F[0] -= al*f\n",
    "F[m-1] -= be*f\n",
    "\n",
    "# Solve the linear system\n",
    "U = np.linalg.solve(A, F)"
   ]
  },
  {
   "cell_type": "markdown",
   "id": "e80c3628",
   "metadata": {},
   "source": [
    "### Computing the error"
   ]
  },
  {
   "cell_type": "code",
   "execution_count": null,
   "id": "86195cab",
   "metadata": {},
   "outputs": [],
   "source": [
    "# Store the results for later analysis\n",
    "results = []\n",
    "\n",
    "# Print the exact and approximate solutions, and compute the infinity norm error\n",
    "infnorm = 0\n",
    "for i in range(m):\n",
    "    uex = exp(cos(pi*x[i]))\n",
    "    E = U[i]-uex\n",
    "    if abs(E) > infnorm:\n",
    "        infnorm = abs(E)\n",
    "    print(x[i], U[i], uex, E)\n",
    "    results.append((x[i], U[i], uex, E))\n",
    "print(\"# Infinity norm error:\", infnorm)\n",
    "\n",
    "# Extract x, U, uex, E from results for plotting\n",
    "x_vals, U_vals, uex_vals, E_vals = zip(*results)"
   ]
  },
  {
   "cell_type": "markdown",
   "id": "4ce74078",
   "metadata": {},
   "source": [
    "### Plotting the results"
   ]
  },
  {
   "cell_type": "code",
   "execution_count": null,
   "id": "82b65c10",
   "metadata": {},
   "outputs": [],
   "source": [
    "fig, ax = plt.subplots(2, 1, figsize=(8, 4), sharex=True, dpi=300)\n",
    "\n",
    "# Plot the numerical and exact solutions\n",
    "ax[0].plot(x_vals, U_vals, color='tab:blue', label='Numerical', marker='o')\n",
    "ax[0].plot(x_vals, uex_vals, color='tab:orange', label='Exact', marker='x')\n",
    "\n",
    "# Plot the absolute error\n",
    "ax[1].plot(x_vals, np.abs(E_vals), color='tab:green', label='Pointwise absolute error', marker='s')\n",
    "ax[1].plot(x_vals, [infnorm]*len(x_vals), 'r--', label='Infinity norm error')\n",
    "\n",
    "# Formatting\n",
    "ax[0].set_ylabel('$u(x)$')\n",
    "ax[0].legend(loc='best')\n",
    "ax[1].set_xlabel('$x$')\n",
    "ax[1].legend(loc='best')\n",
    "ax[1].set_ylim(-0.0001, 0.0008)\n",
    "\n",
    "plt.show()"
   ]
  },
  {
   "cell_type": "markdown",
   "id": "352ab1c9",
   "metadata": {},
   "source": [
    "## 1D Newton's method"
   ]
  },
  {
   "cell_type": "markdown",
   "id": "542c6e2d",
   "metadata": {},
   "source": [
    "### Implement the 1D Newton's method for root-finding"
   ]
  },
  {
   "cell_type": "code",
   "execution_count": null,
   "id": "c1ea8de4",
   "metadata": {},
   "outputs": [],
   "source": [
    "# Function to perform root-finding on\n",
    "def f(x):\n",
    "    return sin(x)-0.9+x**3\n",
    "\n",
    "# Analytical derivative\n",
    "def df(x):\n",
    "    return cos(x)+3*x*x\n",
    "\n",
    "\n",
    "# Choose starting point for Newton iteration\n",
    "xa = 1\n",
    "\n",
    "# Store the results for later analysis\n",
    "results = [xa]\n",
    "\n",
    "for k in range(20):\n",
    "\n",
    "    # Print out the current iterate, and the function value there\n",
    "    print(\"%17.10g %17.10g\" % (xa, f(xa)))\n",
    "\n",
    "    # Perform Newton step\n",
    "    xa = xa-f(xa)/df(xa)\n",
    "\n",
    "    # Store the current iterate\n",
    "    results.append(xa)"
   ]
  },
  {
   "cell_type": "markdown",
   "id": "39093557",
   "metadata": {},
   "source": [
    "### Visualize"
   ]
  },
  {
   "cell_type": "code",
   "execution_count": null,
   "id": "fcc596ae",
   "metadata": {},
   "outputs": [],
   "source": [
    "fig, ax = plt.subplots(1, 1, figsize=(8, 4), dpi=300)\n",
    "\n",
    "# Plot the function to root find\n",
    "xx = np.linspace(-1, 2, 400)\n",
    "ax.plot(xx, np.sin(xx) - 0.9 + xx**3, lw=2, label=r'$f(x) = \\sin(x)-0.9+x^3$')\n",
    "\n",
    "# Plot the Newton iterates\n",
    "# Plot Newton iterates\n",
    "ax.plot(results, [0]*len(results), 'rx', label='Newton iterates')\n",
    "ax.plot(results, [sin(x)-0.9+x**3 for x in results], 'rx', label='Newton iterates', alpha=0.5)\n",
    "for x_iter, y_iter in zip(results, [sin(xi)-0.9+xi**3 for xi in results]):\n",
    "    ax.plot([x_iter, x_iter], [0, y_iter], 'r--', lw=1)\n",
    "\n",
    "# Plot tangent lines at each Newton iterate\n",
    "for x0 in results:\n",
    "    y0 = sin(x0) - 0.9 + x0**3\n",
    "    slope = cos(x0) + 3*x0**2\n",
    "    # Tangent line: y = y0 + slope*(x - x0)\n",
    "    x_tan = np.linspace(x0 - 0.5, x0 + 0.5, 20)\n",
    "    y_tan = y0 + slope * (x_tan - x0)\n",
    "    ax.plot(x_tan, y_tan, 'g--', alpha=0.5)\n",
    "\n",
    "# Formatting\n",
    "ax.axhline(0, color='gray', linestyle='--')\n",
    "ax.set_xlabel('$x$')\n",
    "ax.set_ylabel('$f(x)$')\n",
    "ax.set_xlim(0., 1.5)\n",
    "ax.set_ylim(-2, 2)\n",
    "ax.legend()\n",
    "ax.grid(True)\n",
    "\n",
    "plt.show()"
   ]
  },
  {
   "cell_type": "markdown",
   "id": "a69b7505",
   "metadata": {},
   "source": [
    "## Pendulum problem"
   ]
  },
  {
   "cell_type": "markdown",
   "id": "0be8b8f9",
   "metadata": {},
   "source": [
    "Here we demonstrate how to numericall solve the nonlinear pendulum problem using Newton's method."
   ]
  },
  {
   "cell_type": "markdown",
   "id": "499c05ca",
   "metadata": {},
   "source": [
    "### Define the functions"
   ]
  },
  {
   "cell_type": "code",
   "execution_count": null,
   "id": "9411adbd",
   "metadata": {},
   "outputs": [],
   "source": [
    "# Function to root-find on\n",
    "def g(theta, h, m):\n",
    "    hsq = h*h\n",
    "    g = 1./hsq * (theta[:m] - 2*theta[1:m+1] + theta[2:]) + np.sin(theta[1:m+1])\n",
    "    return g\n",
    "\n",
    "# Analytical Jacobian\n",
    "def j(theta, h, m):\n",
    "    hsq = h*h\n",
    "    diag_main = -2. + hsq * np.cos(theta[1:m+1])\n",
    "    diag_off = np.ones(m-1)\n",
    "    j = (np.diag(diag_main) + np.diag(diag_off, 1) + np.diag(diag_off, -1)) / hsq\n",
    "    return j"
   ]
  },
  {
   "cell_type": "markdown",
   "id": "efb2a7db",
   "metadata": {},
   "source": [
    "### Newton's method"
   ]
  },
  {
   "cell_type": "code",
   "execution_count": null,
   "id": "9a17d8a9",
   "metadata": {},
   "outputs": [],
   "source": [
    "# Define the discretization and the initial guess\n",
    "# BVP: u(0) = 0, u(1) = 0\n",
    "m = 49\n",
    "T = 2 * np.pi              # time period\n",
    "h = T/(m+1)                # mesh width\n",
    "t = np.linspace(0, T, m+2) # mesh points\n",
    "\n",
    "theta0 = np.ones(m+2)*0.7  # initial guess\n",
    "# theta0[0] = -np.pi/3     # left boundary condition\n",
    "# theta0[m+1] = np.pi/3    # right boundary condition\n",
    "\n",
    "# Store the results for later analysis\n",
    "theta = theta0.copy()\n",
    "results = [theta0.copy()]\n",
    "niters = 0\n",
    "\n",
    "# Custom Newton method implementation\n",
    "fk = g(theta, h, m)\n",
    "err = np.linalg.norm(fk)\n",
    "while err > 1e-12:\n",
    "# for idx in range(1):\n",
    "    theta[1:-1] -= np.linalg.solve(j(theta, h, m), fk)\n",
    "    fk = g(theta, h, m)\n",
    "    err = np.linalg.norm(fk)\n",
    "    # Store the current iterate\n",
    "    results.append(theta.copy())\n",
    "    niters += 1"
   ]
  },
  {
   "cell_type": "markdown",
   "id": "164441bd",
   "metadata": {},
   "source": [
    "### Visualize"
   ]
  },
  {
   "cell_type": "code",
   "execution_count": null,
   "id": "dcad28b9",
   "metadata": {},
   "outputs": [],
   "source": [
    "fig, axes = plt.subplots(1, 2, figsize=(8, 3), dpi=300)\n",
    "\n",
    "# Set a colormap gradient\n",
    "cmap = plt.get_cmap('viridis')\n",
    "norm = plt.Normalize(0, niters+1)\n",
    "\n",
    "# First subplot: Pendulum solution\n",
    "# Plot each Newton iterate of the pendulum solution with a color gradient\n",
    "for i, theta_iter in enumerate(results):\n",
    "    color = cmap(norm(i))\n",
    "    axes[0].plot(t, theta_iter, color=color, label=f'Iter {i}', alpha=0.7)\n",
    "axes[0].set_xlabel('$T$')\n",
    "axes[0].set_ylabel(r'$\\theta(t)$')\n",
    "axes[0].set_title('Pendulum solution (Newton iterates)')\n",
    "axes[0].legend()\n",
    "\n",
    "# Second subplot: Pendulum snapshots\n",
    "L = 1.0  # pendulum length\n",
    "pivot = (0, 0)\n",
    "# Set a different colormap gradient\n",
    "cmap = plt.get_cmap('plasma')\n",
    "norm = plt.Normalize(0, m+2+1)\n",
    "\n",
    "for idx in range(m+2):\n",
    "    color = cmap(norm(idx))\n",
    "    theta_val = theta[idx]\n",
    "    bob_x = L * np.sin(theta_val)\n",
    "    bob_y = -L * np.cos(theta_val)\n",
    "    axes[1].plot([pivot[0], bob_x], [pivot[1], bob_y], color=color, lw=1, alpha=0.5)\n",
    "    axes[1].plot(bob_x, bob_y, 'o', color=color, alpha=0.5)\n",
    "\n",
    "# Formatting\n",
    "axes[1].set_xlim(-1.0, 1.0)\n",
    "axes[1].set_ylim(-1.2, 0.2)\n",
    "axes[1].set_aspect('equal')\n",
    "axes[1].set_xticks([])\n",
    "axes[1].set_yticks([])\n",
    "axes[1].set_title('Pendulum snapshots')\n",
    "# Add a colorbar to represent time\n",
    "cbar = plt.cm.ScalarMappable(cmap=cmap, norm=plt.Normalize(vmin=0, vmax=T))\n",
    "cbar.set_array([])\n",
    "cbar = fig.colorbar(cbar, ax=axes[1], orientation='vertical', fraction=0.025, pad=0.04)\n",
    "cbar.set_label('Time $t$')\n",
    "\n",
    "plt.tight_layout()\n",
    "plt.show()\n"
   ]
  },
  {
   "cell_type": "markdown",
   "id": "1e8a921f",
   "metadata": {},
   "source": [
    "### Animation"
   ]
  },
  {
   "cell_type": "code",
   "execution_count": null,
   "id": "fa849cf2",
   "metadata": {},
   "outputs": [],
   "source": [
    "from matplotlib.animation import FuncAnimation\n",
    "from IPython.display import HTML\n",
    "\n",
    "fig, ax = plt.subplots(figsize=(6, 4), dpi=150)\n",
    "ax.set_xlim(-L-0.2, L+0.2)\n",
    "ax.set_ylim(-L-0.2, 0.2)\n",
    "ax.set_aspect('equal')\n",
    "ax.set_xticks([])\n",
    "ax.set_yticks([])\n",
    "ax.set_title('Pendulum animation')\n",
    "\n",
    "pivot = (0, 0)\n",
    "pendulum_line, = ax.plot([], [], lw=1, color='tab:blue')\n",
    "pendulum_blob, = ax.plot([], [], 'o', ms=10, color='tab:blue')\n",
    "time_text = ax.text(0.05, 0.9, '', transform=ax.transAxes)\n",
    "\n",
    "def init():\n",
    "    pendulum_line.set_data([], [])\n",
    "    pendulum_blob.set_data([], [])\n",
    "    time_text.set_text('')\n",
    "    return pendulum_line, time_text\n",
    "\n",
    "def animate(i):\n",
    "    theta_i = theta[i]\n",
    "    bob_x = L * np.sin(theta_i)\n",
    "    bob_y = -L * np.cos(theta_i)\n",
    "    pendulum_line.set_data([pivot[0], bob_x], [pivot[1], bob_y])\n",
    "    pendulum_blob.set_data(bob_x, bob_y)\n",
    "    time_text.set_text(f'Time = {t[i]:.2f}')\n",
    "    return pendulum_line, pendulum_blob, time_text\n",
    "\n",
    "ani = FuncAnimation(fig, animate, frames=len(theta), init_func=init,\n",
    "                    interval=40, blit=True)\n",
    "\n",
    "plt.close(fig)\n",
    "\n",
    "HTML(ani.to_jshtml())"
   ]
  },
  {
   "cell_type": "markdown",
   "id": "eef11a07",
   "metadata": {},
   "source": [
    "## Gaussian quadrature"
   ]
  },
  {
   "cell_type": "markdown",
   "id": "efbbc540",
   "metadata": {},
   "source": [
    "Gaussian quadrature is a method of numerically evaluating integrals exactly. The $n$-point Gaussian quadrature scheme samples an integrand at $\\{x_1, x_2, \\ldots, x_n\\}$ and sums their weights $\\{w_1, w_2, \\ldots, w_n\\}$ to obtain the approximation\n",
    "$$\n",
    "\\int_{-1}^1 f(x) \\, dx \\approx \\sum_{k=1}^n w_k f(x_k)\n",
    "$$\n",
    "Remarkably, **$n$ point Gaussian quadrature can integrate polynomials up to degree $2n-1$ exactly!** Further, it gives accurate results across a wide range of integrands.\n",
    "\n",
    "The $n$-point Gaussian quadrature scheme can be derived analytically using orthogonal polynomials (see [Harvard AM205 Video 3.4](https://youtu.be/wNkXmXyGHo4?si=BXPmPTKloxgfgSK9)). As a nonlinear root-finding example, we aim to derive the two-point Gaussian quadrature points $\\{x_1, x_2\\}$ and weights $\\{w_1, w_2\\}\n",
    "$.\n",
    "\n",
    "We require\n",
    "$$\n",
    "\\begin{aligned}\n",
    "2 &= \\int_{-1}^1 1 \\, dx &= w_1 + w_2, \\\\\n",
    "0 &= \\int_{-1}^1 x \\, dx &= w_1 x_1 + w_2 x_2, \\\\\n",
    "\\frac{2}{3} &= \\int_{-1}^1 x^2 \\, dx &= w_1 x_1^2 + w_2 x_2^2, \\\\\n",
    "0 &= \\int_{-1}^1 x^3 \\, dx &= w_1 x_1^3 + w_2 x_2^3.\n",
    "\\end{aligned}\n",
    "$$\n",
    "We search for a root of\n",
    "$$\n",
    "G(x_1, x_2, w_1, w_2) = \\begin{pmatrix}\n",
    "w_1 + w_2 - 2 \\\\\n",
    "w_1 x_1 + w_2 x_2 \\\\\n",
    "w_1 x_1^2 + w_2 x_2^2 - 2/3 \\\\\n",
    "w_1 x_1^3 + w_2 x_2^3\n",
    "\\end{pmatrix}.\n",
    "$$\n",
    "\n",
    "See the code below, which shows a custom implementation of the Newton method for this problem, and demonstrates Python’s `fsolve`. The analytical solution is\n",
    "$$\n",
    "x_1 = -\\frac{1}{\\sqrt{3}}, x_2 = \\frac{1}{\\sqrt{3}}, w_1 = 1, w_2 = 1.\n",
    "$$"
   ]
  },
  {
   "cell_type": "markdown",
   "id": "c8e99353",
   "metadata": {},
   "source": [
    "### Define the functions"
   ]
  },
  {
   "cell_type": "code",
   "execution_count": null,
   "id": "fc7f94d8",
   "metadata": {},
   "outputs": [],
   "source": [
    "# Function to root-find on\n",
    "def f(x):\n",
    "    print(x)\n",
    "    (x1, x2, w1, w2) = (x[0], x[1], x[2], x[3])\n",
    "    x1s = x1*x1\n",
    "    x2s = x2*x2\n",
    "    f = np.array([w1+w2-2, w1*x1+w2*x2,\n",
    "                  w1*x1s+w2*x2s-2./3, w1*x1s*x1+w2*x2s*x2])\n",
    "    return f\n",
    "\n",
    "# Analytical Jacobian\n",
    "def fprime(x):\n",
    "    print(\"# fprime called\")\n",
    "    (x1, x2, w1, w2) = (x[0], x[1], x[2], x[3])\n",
    "    x1s = x1*x1\n",
    "    x2s = x2*x2\n",
    "    return np.array([[0, 0, 1, 1], \n",
    "                     [w1, w2, x1, x2],\n",
    "                     [2*w1*x1, 2*w2*x2, x1s, x2s], \n",
    "                     [3*w1*x1s, 3*w2*x2s, x1s*x1, x2s*x2]])"
   ]
  },
  {
   "cell_type": "markdown",
   "id": "cb4bbf95",
   "metadata": {},
   "source": [
    "### Newton's method in three modes"
   ]
  },
  {
   "cell_type": "code",
   "execution_count": null,
   "id": "ad00d37e",
   "metadata": {},
   "outputs": [],
   "source": [
    "# Mode: 0 = custom Newton method\n",
    "#       1 = fsolve with Jacobian\n",
    "#       2 = fsolve without Jacobian\n",
    "mode = 0\n",
    "\n",
    "# Initial condition\n",
    "x0 = np.array([-1., 1., 2., 2.])\n",
    "\n",
    "# Custom Newton method implementation\n",
    "if mode == 0:\n",
    "    xk = x0\n",
    "    fk = f(xk)\n",
    "    err = np.linalg.norm(fk)\n",
    "    while err > 1e-14:\n",
    "        xk -= np.linalg.solve(fprime(xk), fk)\n",
    "        fk = f(xk)\n",
    "        err = np.linalg.norm(fk)\n",
    "\n",
    "# Call fsolve routines with and without Jacobian\n",
    "elif mode == 1:\n",
    "    xk = fsolve(f, x0, fprime=fprime)\n",
    "else:\n",
    "    xk = fsolve(f, x0)\n",
    "\n",
    "# Print solution\n",
    "print(\"\\n# Solution is\", xk)"
   ]
  },
  {
   "cell_type": "code",
   "execution_count": null,
   "id": "306f5847",
   "metadata": {},
   "outputs": [],
   "source": []
  }
 ],
 "metadata": {
  "kernelspec": {
   "display_name": "Python 3",
   "language": "python",
   "name": "python3"
  },
  "language_info": {
   "codemirror_mode": {
    "name": "ipython",
    "version": 3
   },
   "file_extension": ".py",
   "mimetype": "text/x-python",
   "name": "python",
   "nbconvert_exporter": "python",
   "pygments_lexer": "ipython3",
   "version": "3.10.15"
  }
 },
 "nbformat": 4,
 "nbformat_minor": 5
}
