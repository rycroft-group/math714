{
 "cells": [
  {
   "cell_type": "markdown",
   "id": "d6252a00",
   "metadata": {},
   "source": [
    "[![Open In Colab](https://colab.research.google.com/assets/colab-badge.svg)](https://colab.research.google.com/github/rycroft-group/math714/blob/main/e_iter_methods/iter_methods.ipynb)"
   ]
  },
  {
   "cell_type": "code",
   "execution_count": null,
   "id": "ef112e6b",
   "metadata": {},
   "outputs": [],
   "source": [
    "# Necessity libraries\n",
    "import numpy as np\n",
    "import scipy.sparse as sp\n",
    "import matplotlib.pyplot as plt\n",
    "from math import *\n",
    "import sys\n",
    "\n",
    "# Optional: a library for plotting with LaTeX-like \n",
    "# styles nicer formatted figures\n",
    "# Warning: need to have LaTeX installed\n",
    "import scienceplots\n",
    "plt.style.use(['science'])"
   ]
  },
  {
   "cell_type": "markdown",
   "id": "9bf8cf61",
   "metadata": {},
   "source": [
    "# Iterative methods"
   ]
  },
  {
   "cell_type": "markdown",
   "id": "1c3c92a3",
   "metadata": {},
   "source": [
    "## Steepest descent"
   ]
  },
  {
   "cell_type": "markdown",
   "id": "04e87a2e",
   "metadata": {},
   "source": [
    "The code implements the steepest descent algorithm using\n",
    "$$\n",
    "A=\\begin{pmatrix} 3 & 0.8 \\\\ 0.8 & 1.2 \\end{pmatrix}, \\qquad f= \\begin{pmatrix} 4 \\\\ 6 \\end{pmatrix}.\n",
    "$$\n",
    "This has solution\n",
    "$$\n",
    "u_* = \\begin{pmatrix} 0 \\\\ 5 \\end{pmatrix}.\n",
    "$$\n",
    "The program reaches a tolerance of \\(10^{-10}\\) in 43 iterations. It takes a zig-zag path to reach the solution."
   ]
  },
  {
   "cell_type": "markdown",
   "id": "5b0b7e27",
   "metadata": {},
   "source": [
    "### Set up"
   ]
  },
  {
   "cell_type": "code",
   "execution_count": null,
   "id": "4f8f17d2",
   "metadata": {},
   "outputs": [],
   "source": [
    "# Matrix and vector\n",
    "A = np.array([[3, 0.8], [0.8, 1.2]])\n",
    "# A=np.array([[2,0],[0,2]])       # Alternative best case: circle\n",
    "f = np.array([4, 6])\n",
    "\n",
    "# Initial guess and tolerance level\n",
    "u = np.array([0, 0])\n",
    "eps = 1e-10\n",
    "\n",
    "# Storage for solutions\n",
    "max_iters = 100\n",
    "u_k = np.empty((100, 2))\n",
    "u_k[0, :] = u"
   ]
  },
  {
   "cell_type": "markdown",
   "id": "7bd5a43a",
   "metadata": {},
   "source": [
    "### Improved steepest descent algorithm"
   ]
  },
  {
   "cell_type": "code",
   "execution_count": null,
   "id": "9c774360",
   "metadata": {},
   "outputs": [],
   "source": [
    "# Steepest descent algorithm\n",
    "r = f-np.dot(A, u)\n",
    "k = 1\n",
    "while True:\n",
    "\n",
    "    # Steepest descent algorithm steps\n",
    "    w = np.dot(A, r)\n",
    "    a = np.dot(r, r)/np.dot(r.T, w)\n",
    "    u = u+a*r\n",
    "    r = r-a*w\n",
    "\n",
    "    # Store current solution\n",
    "    u_k[k, :] = u\n",
    "\n",
    "    # Check for too many iterations\n",
    "    if k > 100:\n",
    "        print(\"Too many iterations\")\n",
    "        sys.exit()\n",
    "\n",
    "    # Check for convergence\n",
    "    k += 1\n",
    "    if np.linalg.norm(r) < eps:\n",
    "        break"
   ]
  },
  {
   "cell_type": "markdown",
   "id": "5a2a989d",
   "metadata": {},
   "source": [
    "### Visualize"
   ]
  },
  {
   "cell_type": "code",
   "execution_count": null,
   "id": "f7494ed8",
   "metadata": {},
   "outputs": [],
   "source": [
    "# Plot results - create contours of phi function\n",
    "n = 100\n",
    "xx = np.linspace(-4, 6, n)\n",
    "yy = np.linspace(-2, 8, n)\n",
    "X, Y = np.meshgrid(xx, yy)\n",
    "pxy = np.zeros((n, n))\n",
    "for i in range(n):\n",
    "    for j in range(n):\n",
    "        u = np.array([X[i, j], Y[i, j]])\n",
    "        pxy[i, j] = 0.5*np.dot(u.T, np.dot(A, u))-np.dot(u, f)\n",
    "\n",
    "fig, ax = plt.subplots(1, 1, figsize=(6, 6), dpi=300)\n",
    "# Plot contours\n",
    "contourf = ax.contourf(X, Y, pxy, 16, alpha=.75)\n",
    "contour = ax.contour(X, Y, pxy, 16, colors='black')\n",
    "# Plot results: overlay progress of algorithm\n",
    "ax.plot(u_k[:k, 0], u_k[:k, 1], color='red', marker='x')\n",
    "\n",
    "# Formatting\n",
    "ax.set_xlabel('$x$')\n",
    "ax.set_ylabel('$y$')\n",
    "plt.show()"
   ]
  },
  {
   "cell_type": "markdown",
   "id": "7f918cce",
   "metadata": {},
   "source": [
    "## Simple conjugate gradient for 1D Poisson"
   ]
  },
  {
   "cell_type": "markdown",
   "id": "eadb1edd",
   "metadata": {},
   "source": [
    "The code uses CG to solve the one-dimensional Poisson equation for $u(x)$,\n",
    "$$\n",
    "\\frac{\\partial^2 u}{\\partial x^2} = f\n",
    "$$\n",
    "on the interval $[0,1]$, with Dirichlet conditions $u(0)=u(1)=0$."
   ]
  },
  {
   "cell_type": "markdown",
   "id": "b66338b1",
   "metadata": {},
   "source": [
    "### Set up"
   ]
  },
  {
   "cell_type": "code",
   "execution_count": null,
   "id": "1bbaef3b",
   "metadata": {},
   "outputs": [],
   "source": [
    "# Total number of grid points, and mesh spacing\n",
    "n = 9\n",
    "h = 1/(n+1)\n",
    "hfac = 1/(h*h)\n",
    "\n",
    "# Calculates the multiplication Au for a given input vector u, without\n",
    "# explicitly building the matrix A\n",
    "def mul_A(u):\n",
    "    Au = -2*u\n",
    "\n",
    "    Au[0] += u[1]\n",
    "    for i in range(1, n-1):\n",
    "        Au[i] += u[i-1]+u[i+1]\n",
    "    Au[n-1] += u[n-2]\n",
    "    Au *= hfac\n",
    "    return Au"
   ]
  },
  {
   "cell_type": "markdown",
   "id": "d4dec31b",
   "metadata": {},
   "source": [
    "### CG algorithm"
   ]
  },
  {
   "cell_type": "code",
   "execution_count": null,
   "id": "c5a31263",
   "metadata": {},
   "outputs": [],
   "source": [
    "# Conjugate gradient algorithm\n",
    "r_k = np.ones((n))\n",
    "u_k = np.zeros((n))\n",
    "p_k = np.copy(r_k)\n",
    "rr = np.dot(r_k, r_k)\n",
    "print(\"# 0\", rr)\n",
    "k = 1\n",
    "# Store all u_k iterates\n",
    "u_k_list = [u_k.copy()]\n",
    "\n",
    "while k <= n:\n",
    "\n",
    "    # Update solution by moving in the direction of the p vector\n",
    "    w_k = mul_A(p_k)\n",
    "    alpha = rr/np.dot(p_k, w_k)\n",
    "    u_k += alpha*p_k\n",
    "    r_k -= alpha*w_k\n",
    "\n",
    "    # Store current solution\n",
    "    u_k_list.append(u_k.copy())\n",
    "\n",
    "    # Compute the 2-norm squared of the residual vector and check\n",
    "    # for convergence\n",
    "    new_rr = np.dot(r_k, r_k)\n",
    "    print(\"#\", k, new_rr)\n",
    "    if new_rr < 1e-20:\n",
    "        break\n",
    "\n",
    "    # Compute new conjugate direction p\n",
    "    beta_k = new_rr/rr\n",
    "    rr = new_rr\n",
    "    p_k = r_k+beta_k*p_k\n",
    "    k += 1\n",
    "\n",
    "# Print out the solution\n",
    "print(\"\\n\", 0, 0)\n",
    "for i in range(0, n):\n",
    "    print(h*(i+1), u_k[i])\n",
    "print(1, 0)"
   ]
  },
  {
   "cell_type": "markdown",
   "id": "dc9d00ee",
   "metadata": {},
   "source": [
    "### Visualize"
   ]
  },
  {
   "cell_type": "code",
   "execution_count": null,
   "id": "54f81c68",
   "metadata": {},
   "outputs": [],
   "source": [
    "# Plot u_k at each iteration\n",
    "fig, ax = plt.subplots(figsize=(8, 6), dpi=300)\n",
    "\n",
    "for i in range(len(u_k_list)):\n",
    "    ax.plot(np.linspace(0, 1, n),\n",
    "            u_k_list[i], '-o', color=plt.cm.viridis(i / len(u_k_list)), alpha=0.5, label=f'$u_{i}$')\n",
    "\n",
    "# Formatting\n",
    "ax.set_xlabel('$x$')\n",
    "ax.set_ylabel('$u_k$')\n",
    "ax.legend()\n",
    "plt.show()"
   ]
  },
  {
   "cell_type": "markdown",
   "id": "77070fb9",
   "metadata": {},
   "source": [
    "## Conjugate gradient for 2D Poisson"
   ]
  },
  {
   "cell_type": "markdown",
   "id": "1ef28446",
   "metadata": {},
   "source": [
    "For $\\epsilon = 10^{-4}$, with the program\n",
    "\\clink{e_iter_methods}{poisson_cg.py}{poisson\\_\\,cg.py}, we obtain the following\n",
    "convergence results\n",
    "\n",
    "The code uses CG to solve the two-dimensional Poisson equation for $u(x)$,\n",
    "$$\n",
    "\\nabla^2 u = 1\n",
    "$$\n",
    "on the interval $[0,1]$."
   ]
  },
  {
   "cell_type": "markdown",
   "id": "7aeb3643",
   "metadata": {},
   "source": [
    "### Set up"
   ]
  },
  {
   "cell_type": "code",
   "execution_count": null,
   "id": "2050565c",
   "metadata": {},
   "outputs": [],
   "source": [
    "# Grid size and grid spacing\n",
    "n = 51\n",
    "h = 1/(n-1)\n",
    "\n",
    "# Generate the centered difference differentiation matrix for the Laplacian\n",
    "de = 1/(h*h)\n",
    "nn = n-2\n",
    "cen = np.ones(nn*nn)*(4*de)\n",
    "hor = np.ones(nn*nn-1)*(-de)\n",
    "ver = np.ones(nn*(nn-1))*(-de)\n",
    "for i in range(nn-1):\n",
    "    hor[(i+1)*nn-1] = 0\n",
    "A = sp.diags([cen, hor, hor, ver, ver], [0, 1, -1, nn, -nn])\n",
    "\n",
    "# Right hand side: a vector of ones\n",
    "rhs = np.ones(nn*nn)\n",
    "norm_rhs = np.linalg.norm(rhs)"
   ]
  },
  {
   "cell_type": "markdown",
   "id": "2ec18b12",
   "metadata": {},
   "source": [
    "### CG algorithm"
   ]
  },
  {
   "cell_type": "code",
   "execution_count": null,
   "id": "da452cf4",
   "metadata": {},
   "outputs": [],
   "source": [
    "# Solve for solution using the conjugate gradient method\n",
    "TOL = 1.e-4\n",
    "u_k = np.zeros(nn*nn)\n",
    "r_k = rhs\n",
    "p_k = r_k\n",
    "count = 1\n",
    "\n",
    "while True:\n",
    "\n",
    "    # First half of conjugate gradient iteration\n",
    "    w_k = A*p_k\n",
    "    alpha_k = np.dot(r_k.T, r_k)/np.dot(p_k.T, w_k)\n",
    "    u_k = u_k+alpha_k*p_k\n",
    "    r_k_old = r_k\n",
    "    r_k = r_k-alpha_k*w_k\n",
    "\n",
    "    # Compute relative residual and use to it to check for convergence\n",
    "    rel_residual = np.linalg.norm(r_k)/norm_rhs\n",
    "    print(\"iteration=%d, relative residual=%g\" % (count, rel_residual))\n",
    "    if rel_residual < TOL:\n",
    "        break\n",
    "\n",
    "    # Second half of conjugate gradient iteration\n",
    "    beta_k = np.dot(r_k.T, r_k)/np.dot(r_k_old.T, r_k_old)\n",
    "    p_k = r_k+beta_k*p_k\n",
    "    count += 1\n",
    "\n",
    "# Print grid spacing and condition number. This may get very expensive for a\n",
    "# large grid, since it uses a dense linear algebra routine to compute the\n",
    "# condition number.\n",
    "print(\"h=%g, condition number=%g\\n\" % (h, np.linalg.cond(A.todense())))"
   ]
  },
  {
   "cell_type": "markdown",
   "id": "d93debae",
   "metadata": {},
   "source": [
    "### Visualize"
   ]
  },
  {
   "cell_type": "code",
   "execution_count": null,
   "id": "ea805f53",
   "metadata": {},
   "outputs": [],
   "source": [
    "# %matplotlib ipympl\n",
    "\n",
    "# Assemble solution in a grid\n",
    "uu=np.zeros((n,n))\n",
    "for i in range(nn):\n",
    "    for j in range(nn):\n",
    "        uu[i+1,j+1]=u_k[i+nn*j]\n",
    "\n",
    "xa=np.linspace(0,1,n)\n",
    "mgx,mgy=np.meshgrid(xa,xa);\n",
    "\n",
    "# Plot the solution using subplots style\n",
    "fig, ax = plt.subplots(figsize=(8, 6), dpi=300, subplot_kw={\"projection\": \"3d\"})\n",
    "surf = ax.plot_surface(mgx, mgy, uu, rstride=1, cstride=1, cmap=plt.cm.PuOr_r)\n",
    "\n",
    "# Formatting\n",
    "fig.colorbar(surf, shrink=0.4, aspect=10, pad=0.075)\n",
    "ax.set_xlabel('$x$')\n",
    "ax.set_ylabel('$y$')\n",
    "ax.set_zlabel('$z$')\n",
    "plt.show()"
   ]
  },
  {
   "cell_type": "code",
   "execution_count": null,
   "id": "a49dfeeb",
   "metadata": {},
   "outputs": [],
   "source": []
  }
 ],
 "metadata": {
  "kernelspec": {
   "display_name": ".venv",
   "language": "python",
   "name": "python3"
  },
  "language_info": {
   "codemirror_mode": {
    "name": "ipython",
    "version": 3
   },
   "file_extension": ".py",
   "mimetype": "text/x-python",
   "name": "python",
   "nbconvert_exporter": "python",
   "pygments_lexer": "ipython3",
   "version": "3.13.3"
  }
 },
 "nbformat": 4,
 "nbformat_minor": 5
}
