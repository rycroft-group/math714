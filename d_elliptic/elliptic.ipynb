{
 "cells": [
  {
   "cell_type": "markdown",
   "id": "a223341b",
   "metadata": {},
   "source": [
    "[![Open In Colab](https://colab.research.google.com/assets/colab-badge.svg)](https://colab.research.google.com/github/rycroft-group/math714/blob/main/d_elliptic/elliptic.ipynb)"
   ]
  },
  {
   "cell_type": "code",
   "execution_count": null,
   "id": "55d39ec1",
   "metadata": {},
   "outputs": [],
   "source": [
    "# Necessity libraries\n",
    "import numpy as np\n",
    "\n",
    "%matplotlib ipympl # for interactive figures in Jupyter notebooks\n",
    "import matplotlib.pyplot as plt\n",
    "from math import *\n",
    "from matplotlib import cm\n",
    "from mpl_toolkits.mplot3d import Axes3D\n",
    "\n",
    "# Optional: a library for plotting with LaTeX-like \n",
    "# styles nicer formatted figures\n",
    "# Warning: need to have LaTeX installed\n",
    "import scienceplots\n",
    "plt.style.use(['science'])"
   ]
  },
  {
   "cell_type": "markdown",
   "id": "588c1c20",
   "metadata": {},
   "source": [
    "# Elliptic equations"
   ]
  },
  {
   "cell_type": "markdown",
   "id": "256b26e6",
   "metadata": {},
   "source": [
    "## Solving the Poisson equation (5-point Laplacian stencil)"
   ]
  },
  {
   "cell_type": "markdown",
   "id": "7905e2e4",
   "metadata": {},
   "source": [
    "We now solve the Poisson equation\n",
    "$$\n",
    "\\nabla^2 u = f\n",
    "$$\n",
    "on the domain $\\Omega = [0,1]^2$ using\n",
    "$$\n",
    "f(x,y) = \\exp \\left( -3 \\left( (x-0.3)^2 + (y-0.7)^2 \\right) \\right)\n",
    "$$\n",
    "and\n",
    "$$\n",
    "u = 0 \\qquad \\text{on $\\partial \\Omega$.}\n",
    "$$"
   ]
  },
  {
   "cell_type": "markdown",
   "id": "c421ac74",
   "metadata": {},
   "source": [
    "### Setting up the matrix and source term"
   ]
  },
  {
   "cell_type": "code",
   "execution_count": null,
   "id": "f1396404",
   "metadata": {},
   "outputs": [],
   "source": [
    "# Grid setup\n",
    "m = 25\n",
    "mm = m*m\n",
    "h = 1.0/(m+1)\n",
    "\n",
    "# Create derivative matrix and source term\n",
    "d = np.zeros((mm, mm))\n",
    "f = np.empty((mm))\n",
    "hfac = 1/(h*h)\n",
    "for i in range(m):\n",
    "    y = (i+1)*h\n",
    "    for j in range(m):\n",
    "        ij = m*j+i\n",
    "\n",
    "        # Construct 5-point Laplacian stencil\n",
    "        d[ij, ij] = -4*hfac\n",
    "        if i > 0:\n",
    "            d[ij, ij-1] = hfac\n",
    "        if i < m-1:\n",
    "            d[ij, ij+1] = hfac\n",
    "        if j > 0:\n",
    "            d[ij, ij-m] = hfac\n",
    "        if j < m-1:\n",
    "            d[ij, ij+m] = hfac\n",
    "\n",
    "        # Source term\n",
    "        x = (j+1)*h\n",
    "        f[ij] = -exp(-3*((x-0.3)**2+(y-0.7)**2))"
   ]
  },
  {
   "cell_type": "markdown",
   "id": "271352bc",
   "metadata": {},
   "source": [
    "### Visualize the derivative matrix"
   ]
  },
  {
   "cell_type": "code",
   "execution_count": null,
   "id": "89e0f010",
   "metadata": {},
   "outputs": [],
   "source": [
    "plt.spy(d)\n",
    "plt.show()"
   ]
  },
  {
   "cell_type": "markdown",
   "id": "245ccc33",
   "metadata": {},
   "source": [
    "### Solve the linear system and plot"
   ]
  },
  {
   "cell_type": "code",
   "execution_count": null,
   "id": "300932d6",
   "metadata": {},
   "outputs": [],
   "source": [
    "# Solve the linear system\n",
    "u = np.linalg.solve(d, f)"
   ]
  },
  {
   "cell_type": "code",
   "execution_count": null,
   "id": "e7b1056d",
   "metadata": {},
   "outputs": [],
   "source": [
    "# Reconstruct full grid\n",
    "uu = np.zeros((m+2, m+2))\n",
    "for i in range(m):\n",
    "    uu[i+1, 1:m+1] = u[i*m:(i+1)*m]\n",
    "\n",
    "# Plot using Matplotlib\n",
    "xa = np.linspace(0, 1, m+2)\n",
    "mgx, mgy = np.meshgrid(xa, xa)\n",
    "fig, ax = plt.subplots(subplot_kw={\"projection\": \"3d\"})\n",
    "surf = ax.plot_surface(mgx, mgy, uu, cmap=cm.plasma,\n",
    "                       rstride=1, cstride=1, linewidth=0)\n",
    "ax.set_xlabel('x')\n",
    "ax.set_ylabel('y')\n",
    "ax.set_zlabel('u')\n",
    "plt.show()"
   ]
  },
  {
   "cell_type": "code",
   "execution_count": null,
   "id": "73406582",
   "metadata": {},
   "outputs": [],
   "source": []
  }
 ],
 "metadata": {
  "kernelspec": {
   "display_name": ".venv",
   "language": "python",
   "name": "python3"
  },
  "language_info": {
   "codemirror_mode": {
    "name": "ipython",
    "version": 3
   },
   "file_extension": ".py",
   "mimetype": "text/x-python",
   "name": "python",
   "nbconvert_exporter": "python",
   "pygments_lexer": "ipython3",
   "version": "3.13.3"
  }
 },
 "nbformat": 4,
 "nbformat_minor": 5
}
