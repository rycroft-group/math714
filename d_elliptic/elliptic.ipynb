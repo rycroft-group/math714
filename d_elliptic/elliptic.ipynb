{
 "cells": [
  {
   "cell_type": "markdown",
   "id": "a223341b",
   "metadata": {},
   "source": [
    "[![Open In Colab](https://colab.research.google.com/assets/colab-badge.svg)](https://colab.research.google.com/github/rycroft-group/math714/blob/main/d_elliptic/elliptic.ipynb)"
   ]
  },
  {
   "cell_type": "code",
   "execution_count": null,
   "id": "55d39ec1",
   "metadata": {},
   "outputs": [],
   "source": [
    "# Necessity libraries\n",
    "import numpy as np\n",
    "\n",
    "# %matplotlib ipympl\n",
    "# for interactive figures in Jupyter notebooks\n",
    "# cannot have comments after it\n",
    "import matplotlib.pyplot as plt\n",
    "from math import *\n",
    "from matplotlib import cm\n",
    "from mpl_toolkits.mplot3d import Axes3D\n",
    "\n",
    "# Optional: a library for plotting with LaTeX-like \n",
    "# styles nicer formatted figures\n",
    "# Warning: need to have LaTeX installed\n",
    "import scienceplots\n",
    "plt.style.use(['science'])"
   ]
  },
  {
   "cell_type": "markdown",
   "id": "588c1c20",
   "metadata": {},
   "source": [
    "# Elliptic equations"
   ]
  },
  {
   "cell_type": "markdown",
   "id": "256b26e6",
   "metadata": {},
   "source": [
    "## Solving the Poisson equation (5-point Laplacian stencil)"
   ]
  },
  {
   "cell_type": "markdown",
   "id": "7905e2e4",
   "metadata": {},
   "source": [
    "We now solve the Poisson equation\n",
    "$$\n",
    "\\nabla^2 u = f\n",
    "$$\n",
    "on the domain $\\Omega = [0,1]^2$ using\n",
    "$$\n",
    "f(x,y) = -\\exp \\left( -3 \\left( (x-0.3)^2 + (y-0.7)^2 \\right) \\right)\n",
    "$$\n",
    "and\n",
    "$$\n",
    "u = 0 \\qquad \\text{on $\\partial \\Omega$.}\n",
    "$$"
   ]
  },
  {
   "cell_type": "markdown",
   "id": "c421ac74",
   "metadata": {},
   "source": [
    "### Setting up the matrix and source term"
   ]
  },
  {
   "cell_type": "code",
   "execution_count": null,
   "id": "f1396404",
   "metadata": {},
   "outputs": [],
   "source": [
    "# Grid setup\n",
    "m = 25\n",
    "mm = m*m\n",
    "h = 1.0/(m+1)\n",
    "\n",
    "# Create derivative matrix and source term\n",
    "d = np.zeros((mm, mm))\n",
    "f = np.empty((mm))\n",
    "hfac = 1/(h*h)\n",
    "for i in range(m):\n",
    "    y = (i+1)*h\n",
    "    for j in range(m):\n",
    "        ij = m*j+i\n",
    "\n",
    "        # Construct 5-point Laplacian stencil\n",
    "        d[ij, ij] = -4*hfac\n",
    "        if i > 0:\n",
    "            d[ij, ij-1] = hfac\n",
    "        if i < m-1:\n",
    "            d[ij, ij+1] = hfac\n",
    "        if j > 0:\n",
    "            d[ij, ij-m] = hfac\n",
    "        if j < m-1:\n",
    "            d[ij, ij+m] = hfac\n",
    "\n",
    "        # Source term\n",
    "        x = (j+1)*h\n",
    "        f[ij] = -exp(-3*((x-0.3)**2+(y-0.7)**2))"
   ]
  },
  {
   "cell_type": "markdown",
   "id": "271352bc",
   "metadata": {},
   "source": [
    "### Visualize the derivative matrix"
   ]
  },
  {
   "cell_type": "code",
   "execution_count": null,
   "id": "89e0f010",
   "metadata": {},
   "outputs": [],
   "source": [
    "plt.spy(d)\n",
    "plt.show()"
   ]
  },
  {
   "cell_type": "markdown",
   "id": "245ccc33",
   "metadata": {},
   "source": [
    "### Solve the linear system and plot"
   ]
  },
  {
   "cell_type": "code",
   "execution_count": null,
   "id": "300932d6",
   "metadata": {},
   "outputs": [],
   "source": [
    "# Solve the linear system\n",
    "u = np.linalg.solve(d, f)"
   ]
  },
  {
   "cell_type": "code",
   "execution_count": null,
   "id": "e7b1056d",
   "metadata": {},
   "outputs": [],
   "source": [
    "%matplotlib ipympl\n",
    "\n",
    "# Reconstruct full grid\n",
    "ui = np.zeros((m+2, m+2)) # initial values\n",
    "uu = np.zeros((m+2, m+2)) # numerical solution\n",
    "for i in range(m):\n",
    "    ui[i+1, 1:m+1] = f[i*m:(i+1)*m]\n",
    "    uu[i+1, 1:m+1] = u[i*m:(i+1)*m]\n",
    "\n",
    "# Plot using Matplotlib\n",
    "xa = np.linspace(0, 1, m+2)\n",
    "mgx, mgy = np.meshgrid(xa, xa)\n",
    "fig, ax = plt.subplots(subplot_kw={\"projection\": \"3d\"})\n",
    "# Plot initial values\n",
    "# surf = ax.plot_surface(mgx, mgy, ui, cmap=cm.plasma, alpha=0.3,\n",
    "#                        rstride=1, cstride=1, linewidth=0)\n",
    "# Plot solution\n",
    "surf = ax.plot_surface(mgx, mgy, uu, cmap=cm.plasma,\n",
    "                       rstride=1, cstride=1, linewidth=0)\n",
    "ax.set_xlabel('x')\n",
    "ax.set_ylabel('y')\n",
    "ax.set_zlabel('u')\n",
    "plt.show()"
   ]
  },
  {
   "cell_type": "markdown",
   "id": "2e7eab0d",
   "metadata": {},
   "source": [
    "## Method of manufactured solution and global error"
   ]
  },
  {
   "cell_type": "markdown",
   "id": "cccab865",
   "metadata": {},
   "source": [
    "The code below solves the Poisson equation using the method of manufactured solutions with\n",
    "$$\n",
    "u_\\text{manu}(x,y) = x(x-1) e^{xy} \\sin \\pi y\n",
    "$$\n",
    "corresponding to\n",
    "$$\n",
    "\\begin{align*}\n",
    "f(x,y) &= -e^{xy} \\big( 2\\pi(x-1)x^2 \\cos \\pi y \\\\\n",
    "        &\\phantom{=} + (2-2y+x((x-1)(x^2+y^2-\\pi^2)+4y)\\big) \\sin \\pi y\n",
    "\\end{align*}\n",
    "$$\n",
    "and boundary conditions $u=0$ on $\\partial \\Omega$. It measures the global error\n",
    "for a variety of grid sizes."
   ]
  },
  {
   "cell_type": "markdown",
   "id": "e1348e2c",
   "metadata": {},
   "source": [
    "### Streamline the Poisson solve and error computation"
   ]
  },
  {
   "cell_type": "code",
   "execution_count": null,
   "id": "73406582",
   "metadata": {},
   "outputs": [],
   "source": [
    "# Calculates the error of the Poisson equation in several different norms\n",
    "def poisson_error(m, results):\n",
    "    mm = m*m\n",
    "    h = 1.0/(m+1)\n",
    "\n",
    "    # Create derivative matrix and source term\n",
    "    d = np.zeros((mm, mm))\n",
    "    f = np.empty((mm))\n",
    "    hfac = 1/(h*h)\n",
    "    for j in range(m):\n",
    "        y = (j+1)*h\n",
    "        for i in range(m):\n",
    "            ij = j*m+i\n",
    "\n",
    "            # Construct 5-point Laplacian stencil\n",
    "            d[ij, ij] = -4*hfac\n",
    "            if i > 0:\n",
    "                d[ij, ij-1] = hfac\n",
    "            if i < m-1:\n",
    "                d[ij, ij+1] = hfac\n",
    "            if j > 0:\n",
    "                d[ij, ij-m] = hfac\n",
    "            if j < m-1:\n",
    "                d[ij, ij+m] = hfac\n",
    "\n",
    "            # Source term\n",
    "            x = (i+1)*h\n",
    "            f[ij] = exp(x*y)*(2*pi*(x-1)*x*x*cos(pi*y)\n",
    "                              + (2-2*y+x*((-1+x)*(-pi*pi+x*x)+4*y+(-1+x)*y*y))*sin(pi*y))\n",
    "\n",
    "    # Solve the linear system\n",
    "    u = np.linalg.solve(d, f)\n",
    "\n",
    "    # Compute global error by subtracting the analytical solution\n",
    "    for j in range(m):\n",
    "        y = (j+1)*h\n",
    "        for i in range(m):\n",
    "            x = (i+1)*h\n",
    "            u[j*m+i] -= x*(x-1)*exp(x*y)*sin(pi*y)\n",
    "\n",
    "    # Return 2-norm and infinity norm\n",
    "    print(m, h, h*np.linalg.norm(u), np.linalg.norm(u, np.inf))\n",
    "    results.append((m, h, h*np.linalg.norm(u), np.linalg.norm(u, np.inf)))\n",
    "\n",
    "# Restore print results\n",
    "results_5pts = []\n",
    "\n",
    "# Calculate the error for a range of grid sizes\n",
    "for m in (7, 15, 31, 63, 95):\n",
    "    poisson_error(m, results_5pts)"
   ]
  },
  {
   "cell_type": "markdown",
   "id": "2ebffdd5",
   "metadata": {},
   "source": [
    "### Visualize global error in 2-norm and infinity norm"
   ]
  },
  {
   "cell_type": "code",
   "execution_count": null,
   "id": "340ae27f",
   "metadata": {},
   "outputs": [],
   "source": [
    "%matplotlib inline\n",
    "\n",
    "# Extract h values, 2-norm, and infinity norm from results\n",
    "h_values_5pts = [r[1] for r in results_5pts]\n",
    "two_norms_5pts = [r[2] for r in results_5pts]\n",
    "infinity_norms_5pts = [r[3] for r in results_5pts]\n",
    "\n",
    "# Plot the norms of global error\n",
    "fig, ax = plt.subplots(1, 1, figsize=(4, 3), dpi=300)\n",
    "ax.loglog(h_values_5pts, two_norms_5pts, label='2-norm', marker='o', color='C0', mfc='none')\n",
    "ax.loglog(h_values_5pts, infinity_norms_5pts, '--', label='Infinity norm', marker='s', color='C0', mfc='none')\n",
    "\n",
    "# Formatting\n",
    "ax.set_xlabel('Grid spacing ($h$)')\n",
    "ax.set_ylabel('Global error')\n",
    "ax.axis('equal')\n",
    "ax.legend()\n",
    "ax.grid(True, which=\"major\", linestyle=\"--\")\n",
    "plt.show()"
   ]
  },
  {
   "cell_type": "markdown",
   "id": "196d4837",
   "metadata": {},
   "source": [
    "## Solving the Laplace equation (9-point Laplacian stencil)"
   ]
  },
  {
   "cell_type": "markdown",
   "id": "a0dbdfbb",
   "metadata": {},
   "source": [
    "The example below implements the 9-point stencil for the Laplace equation using the manufactured solution\n",
    "$$\n",
    "  u_\\text{manu}(x,y) = \\cos 3x \\exp 3y\n",
    "$$\n",
    "with the Dirichlet boundary conditions $u=u_\\text{manu}$ are applied on $\\partial \\Omega$.\n",
    "\n",
    "The program computes the global error for a variety of grid sizes."
   ]
  },
  {
   "cell_type": "markdown",
   "id": "7655f609",
   "metadata": {},
   "source": [
    "### Streamline the Laplace solve and error computation"
   ]
  },
  {
   "cell_type": "code",
   "execution_count": null,
   "id": "8b49fd24",
   "metadata": {},
   "outputs": [],
   "source": [
    "# Exact solution of the Laplace equation\n",
    "def u_ex(x, y):\n",
    "    return cos(3*x)*exp(3*y)\n",
    "\n",
    "# Calculates the error of the Poisson equation in several different norms\n",
    "def laplace_error(m, results):\n",
    "    m2 = m+2\n",
    "    mm = m2*m2\n",
    "    h = 1.0/(m+1)\n",
    "\n",
    "    # Create derivative matrix, starting with the diagonal terms already\n",
    "    # present\n",
    "    hfac = 1/(6*h*h)\n",
    "    d = np.diag(-20*hfac*np.ones(mm))\n",
    "    f = np.zeros((mm))\n",
    "    for j in range(1, m+1):\n",
    "        for i in range(1, m+1):\n",
    "            ij = j*m2+i\n",
    "\n",
    "            # Construct 9-point Laplacian stencil\n",
    "            d[ij, ij-m2-1] = hfac\n",
    "            d[ij, ij-m2] = 4*hfac\n",
    "            d[ij, ij-m2+1] = hfac\n",
    "            d[ij, ij-1] = 4*hfac\n",
    "            d[ij, ij+1] = 4*hfac\n",
    "            d[ij, ij+m2-1] = hfac\n",
    "            d[ij, ij+m2] = 4*hfac\n",
    "            d[ij, ij+m2+1] = hfac\n",
    "\n",
    "    # Fill in bottom and top Dirichlet conditions\n",
    "    for i in range(0, m2):\n",
    "        f[i] = -20*hfac*u_ex(i*h, 0)\n",
    "        f[i+m2*(m+1)] = -20*hfac*u_ex(i*h, 1)\n",
    "\n",
    "    # Fill in the side Dirichlet conditions\n",
    "    for j in range(1, m+1):\n",
    "        f[j*m2] = -20*hfac*u_ex(0, j*h)\n",
    "        f[j*m2+m+1] = -20*hfac*u_ex(1, j*h)\n",
    "\n",
    "    # Solve the linear system\n",
    "    u = np.linalg.solve(d, f)\n",
    "\n",
    "    # Compute global error by subtracting the analytical solution\n",
    "    for j in range(m2):\n",
    "        for i in range(m2):\n",
    "            u[j*m2+i] -= u_ex(i*h, j*h)\n",
    "\n",
    "    # Return 2-norm and infinity norm\n",
    "    print(m, h, h*np.linalg.norm(u), np.linalg.norm(u, np.inf))\n",
    "    results.append((m, h, h*np.linalg.norm(u), np.linalg.norm(u, np.inf)))\n",
    "\n",
    "# Restore print results\n",
    "results_9pts = []\n",
    "\n",
    "# Calculate the error for a range of grid sizes\n",
    "for m in (7, 15, 31, 63, 95):\n",
    "    laplace_error(m, results_9pts)"
   ]
  },
  {
   "cell_type": "markdown",
   "id": "a0edb658",
   "metadata": {},
   "source": [
    "### Visualize global error in 2-norm and infinity norm"
   ]
  },
  {
   "cell_type": "code",
   "execution_count": null,
   "id": "0bbf17c3",
   "metadata": {},
   "outputs": [],
   "source": [
    "# Extract h values, 2-norm, and infinity norm from results\n",
    "h_values_9pts = [r[1] for r in results_9pts]\n",
    "two_norms_9pts = [r[2] for r in results_9pts]\n",
    "infinity_norms_9pts = [r[3] for r in results_9pts]\n",
    "\n",
    "# Plot the norms of global error\n",
    "fig, ax = plt.subplots(1, 1, figsize=(4, 3), dpi=300)\n",
    "# ax.loglog(h_values_5pts, two_norms_5pts, label='2-norm', marker='o', color='C0', mfc='none')\n",
    "# ax.loglog(h_values_5pts, infinity_norms_5pts, '--', label='Infinity norm', marker='s', color='C0', mfc='none')\n",
    "ax.loglog(h_values_9pts, two_norms_9pts, label='2-norm', marker='o', color='C1', mfc='none')\n",
    "ax.loglog(h_values_9pts, infinity_norms_9pts, '--', label='Infinity norm', marker='s', color='C1', mfc='none')\n",
    "\n",
    "# # Add three reference lines for slopes 2, 4, and 6\n",
    "# h_ref = np.array(h_values_5pts)\n",
    "# ax.loglog(h_ref, 0.1*h_ref**2, 'r-', label='$O(h^2)$')\n",
    "# ax.loglog(h_ref, 0.01*h_ref**4, 'r:', label='$O(h^4)$')\n",
    "# ax.loglog(h_ref, 0.01*h_ref**6, 'r', label='$O(h^6)$')\n",
    "\n",
    "# Formatting\n",
    "ax.set_xlabel('Grid spacing ($h$)')\n",
    "ax.set_ylabel('Global error')\n",
    "ax.axis('equal')\n",
    "ax.legend(loc='upper left', frameon=True)\n",
    "ax.grid(True, which=\"major\", linestyle=\"--\")\n",
    "plt.show()"
   ]
  },
  {
   "cell_type": "markdown",
   "id": "ea527bf2",
   "metadata": {},
   "source": [
    "## Solving the Poisson equation with adjustments"
   ]
  },
  {
   "cell_type": "markdown",
   "id": "c892246e",
   "metadata": {},
   "source": [
    "The fourth-order method can be extended to the Poisson equation $\\nabla^2 u=f$ where $f$ is non-zero. The numerical $f_{ij}$ is modified to\n",
    "$$\n",
    "f_{ij} = f(x_i,y_j) + \\frac{h^2}{12} \\nabla^2 f(x_i,y_j)\n",
    "$$\n",
    "and the additional term cancels out the leading order error. We demonstrate this using the example\n",
    "of\n",
    "$$\n",
    "u_\\text{manu}(x,y) = x^3(1-x)y(1-y),\n",
    "$$\n",
    "which has\n",
    "$$\n",
    "f(x,y) = 2(x-1)x^3+6x(2x-1)(y-1)y\n",
    "$$\n",
    "and\n",
    "$$\n",
    "\\nabla^2 f (x,y) = 24(x(2x-1)+(y-1)y).\n",
    "$$\n",
    "\n",
    "The code also demonstrates this, using a 5-point Laplacian stencil for $\\nabla^2 f$, and again achieving $O(h^4)$ error."
   ]
  },
  {
   "cell_type": "markdown",
   "id": "713770f3",
   "metadata": {},
   "source": [
    "### Streamline the Poisson solve and error computation"
   ]
  },
  {
   "cell_type": "code",
   "execution_count": null,
   "id": "f78acb72",
   "metadata": {},
   "outputs": [],
   "source": [
    "# Source term for Poisson equation\n",
    "def ff(x,y):\n",
    "    return 2*(x-1)*x**3+6*x*(2*x-1)*(y-1)*y\n",
    "\n",
    "# Calculates the error of the Poisson equation in several different norms\n",
    "def poisson_error(m, results):\n",
    "    mm=m*m\n",
    "    h=1.0/(m+1)\n",
    "\n",
    "    # Create derivative matrix and source term\n",
    "    d=np.zeros((mm,mm))\n",
    "    f=np.empty((mm))\n",
    "    hfac=1/(6*h*h)\n",
    "    for j in range(m):\n",
    "        y=(j+1)*h\n",
    "        for i in range(m):\n",
    "            ij=j*m+i\n",
    "\n",
    "            # Construct 9-point Laplacian stencil \n",
    "            d[ij,ij]=-20*hfac\n",
    "            if j>0:\n",
    "                if i>0: d[ij,ij-m-1]=hfac\n",
    "                d[ij,ij-m]=4*hfac\n",
    "                if i<m-1: d[ij,ij-m+1]=hfac\n",
    "            if j<m-1:\n",
    "                if i>0: d[ij,ij+m-1]=hfac\n",
    "                d[ij,ij+m]=4*hfac\n",
    "                if i<m-1: d[ij,ij+m+1]=hfac\n",
    "            if i>0: d[ij,ij-1]=4*hfac\n",
    "            d[ij,ij]=-20*hfac\n",
    "            if i<m-1: d[ij,ij+1]=4*hfac\n",
    "\n",
    "            # Source term\n",
    "            x=(i+1)*h\n",
    "            f[ij]=ff(x,y)\n",
    "            \n",
    "            # Correction from nabla^2 f (analytical)\n",
    "            # f[ij]+=h*h/12*(24*(x*(2*x-1)+(y-1)*y))\n",
    "\n",
    "            # Correction from nabla^2 f (numerical)\n",
    "            # f[ij]+=1/12.*(ff(x-h,y)+ff(x+h,y)+ff(x,y-h)+ff(x,y+h)-4*ff(x,y))\n",
    "\n",
    "    # Solve the linear system\n",
    "    u=np.linalg.solve(d,f)\n",
    "\n",
    "    # Compute global error by subtracting the analytical solution \n",
    "    for j in range(m):\n",
    "        y=(j+1)*h\n",
    "        for i in range(m):\n",
    "            x=(i+1)*h\n",
    "            u[j*m+i]-=x*x*x*(x-1)*y*(y-1)\n",
    "\n",
    "    # Return 2-norm and infinity norm\n",
    "    print(m,h,h*np.linalg.norm(u),np.linalg.norm(u,np.inf))\n",
    "    results.append((m,h,h*np.linalg.norm(u),np.linalg.norm(u,np.inf)))\n",
    "\n",
    "# Store print results\n",
    "results = []\n",
    "\n",
    "# Calculate the error for a range of grid sizes\n",
    "for m in (7,15,31,63,95):\n",
    "    poisson_error(m, results)\n"
   ]
  },
  {
   "cell_type": "markdown",
   "id": "130cdd40",
   "metadata": {},
   "source": [
    "### Visualize global error in 2-norm and infinity norm"
   ]
  },
  {
   "cell_type": "code",
   "execution_count": null,
   "id": "21eccf75",
   "metadata": {},
   "outputs": [],
   "source": [
    "# Extract h values, 2-norm, and infinity norm from results\n",
    "h_values = [r[1] for r in results]\n",
    "two_norms = [r[2] for r in results]\n",
    "infinity_norms = [r[3] for r in results]\n",
    "\n",
    "# Plot the norms of global error\n",
    "fig, ax = plt.subplots(1, 1, figsize=(4, 3), dpi=300)\n",
    "# ax.loglog(h_values_5pts, two_norms_5pts, label='2-norm', marker='o', color='C0', mfc='none')\n",
    "# ax.loglog(h_values_5pts, infinity_norms_5pts, '--', label='Infinity norm', marker='s', color='C0', mfc='none')\n",
    "# ax.loglog(h_values_9pts, two_norms_9pts, label='2-norm', marker='o', color='C1', mfc='none')\n",
    "# ax.loglog(h_values_9pts, infinity_norms_9pts, '--', label='Infinity norm', marker='s', color='C1', mfc='none')\n",
    "ax.loglog(h_values, two_norms, label='2-norm', marker='o', color='C1', mfc='none')\n",
    "ax.loglog(h_values, infinity_norms, '--', label='Infinity norm', marker='s', color='C1', mfc='none')\n",
    "\n",
    "# # Add three reference lines for slopes 2 and 4\n",
    "# h_ref = np.array(h_values)\n",
    "# ax.loglog(h_ref, 0.1*h_ref**2, 'r-', label='$O(h^2)$')\n",
    "# ax.loglog(h_ref, 0.01*h_ref**4, 'r:', label='$O(h^4)$')\n",
    "\n",
    "# Formatting\n",
    "ax.set_xlabel('Grid spacing ($h$)')\n",
    "ax.set_ylabel('Global error')\n",
    "ax.axis('equal')\n",
    "ax.legend(loc='upper left', frameon=True)\n",
    "ax.grid(True, which=\"major\", linestyle=\"--\")\n",
    "plt.show()"
   ]
  },
  {
   "cell_type": "code",
   "execution_count": null,
   "id": "9b6e51b0",
   "metadata": {},
   "outputs": [],
   "source": []
  }
 ],
 "metadata": {
  "kernelspec": {
   "display_name": ".venv",
   "language": "python",
   "name": "python3"
  },
  "language_info": {
   "codemirror_mode": {
    "name": "ipython",
    "version": 3
   },
   "file_extension": ".py",
   "mimetype": "text/x-python",
   "name": "python",
   "nbconvert_exporter": "python",
   "pygments_lexer": "ipython3",
   "version": "3.13.3"
  }
 },
 "nbformat": 4,
 "nbformat_minor": 5
}
