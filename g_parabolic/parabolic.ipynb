{
 "cells": [
  {
   "cell_type": "markdown",
   "id": "b5274569",
   "metadata": {},
   "source": [
    "[![Open In Colab](https://colab.research.google.com/assets/colab-badge.svg)](https://colab.research.google.com/github/rycroft-group/math714/blob/main/g_parabolic/parabolic.ipynb)"
   ]
  },
  {
   "cell_type": "code",
   "execution_count": 40,
   "id": "20f52052",
   "metadata": {},
   "outputs": [],
   "source": [
    "import numpy as np\n",
    "import matplotlib.pyplot as plt\n",
    "from mpl_toolkits.mplot3d import Axes3D\n",
    "from math import *\n",
    "\n",
    "# Optional: a library for plotting with LaTeX-like \n",
    "# styles nicer formatted figures\n",
    "# Warning: need to have LaTeX installed\n",
    "import scienceplots\n",
    "plt.style.use(['science'])"
   ]
  },
  {
   "cell_type": "markdown",
   "id": "98085ef5",
   "metadata": {},
   "source": [
    "# Parabolic equations"
   ]
  },
  {
   "cell_type": "markdown",
   "id": "84a3d01b",
   "metadata": {},
   "source": [
    "## Heat equation"
   ]
  },
  {
   "cell_type": "markdown",
   "id": "4b22fd71",
   "metadata": {},
   "source": [
    "We will solve for the heat equation\n",
    "$$\n",
    "u_t = u_{xx}\n",
    "$$\n",
    "with a periodic boundary condition $0 \\leq x < 1$ and initial condition\n",
    "$$\n",
    "u(x,0) = \n",
    "\\begin{cases} \n",
    "1 & \\text{if } 1/4 \\leq x < 3/4, \\\\\n",
    "0 & \\text{otherwise.}\n",
    "\\end{cases}\n",
    "$$"
   ]
  },
  {
   "cell_type": "markdown",
   "id": "f519fef2",
   "metadata": {},
   "source": [
    "### Setup"
   ]
  },
  {
   "cell_type": "code",
   "execution_count": 60,
   "id": "9b3a56b5",
   "metadata": {},
   "outputs": [],
   "source": [
    "# Grid size\n",
    "m = 64\n",
    "a = np.zeros((m))\n",
    "b = np.empty((m))\n",
    "snaps = 40\n",
    "iters = 50\n",
    "z = np.empty((m, snaps+1))\n",
    "\n",
    "# PDE-related constants. Change the timestep prefactor to 0.5001 to go slightly\n",
    "# beyond the point of stability, where the 2-gridpoint oscillation will slowly\n",
    "# grow.\n",
    "dx = 1.0/m\n",
    "dt = 0.1*dx*dx\n",
    "mu = dt/(dx*dx)\n",
    "\n",
    "# Initial condition\n",
    "for j in range(m):\n",
    "    x = dx*j\n",
    "    if x > 0.25 and x < 0.75:\n",
    "        a[j] = 1\n",
    "z[:, 0] = a"
   ]
  },
  {
   "cell_type": "markdown",
   "id": "6bf01224",
   "metadata": {},
   "source": [
    "### Integrate the PDE"
   ]
  },
  {
   "cell_type": "code",
   "execution_count": null,
   "id": "82bf7c5b",
   "metadata": {},
   "outputs": [],
   "source": [
    "# Store results\n",
    "results = []\n",
    "\n",
    "# Integrate the PDE\n",
    "for i in range(1, snaps+1):\n",
    "    for k in range(iters):\n",
    "        for j in range(m):\n",
    "            jl = j-1\n",
    "            if jl < 0:\n",
    "                jl += m\n",
    "            jr = j+1\n",
    "            if jr >= m:\n",
    "                jr -= m\n",
    "            b[j] = ((1-2*mu)*a[j]+mu*(a[jl]+a[jr]))\n",
    "        a = np.copy(b)\n",
    "    z[:, i] = a\n",
    "\n",
    "# Output results\n",
    "for j in range(m):\n",
    "    e = [str(j*dx)]\n",
    "    for i in range(snaps+1):\n",
    "        e.append(str(z[j, i]))\n",
    "    print(\" \".join(e))\n",
    "    results.append(\" \".join(e).split())"
   ]
  },
  {
   "cell_type": "markdown",
   "id": "05d1de99",
   "metadata": {},
   "source": [
    "### Visualize"
   ]
  },
  {
   "cell_type": "code",
   "execution_count": null,
   "id": "c5e41a7d",
   "metadata": {},
   "outputs": [],
   "source": [
    "fig, ax = plt.subplots(figsize=(8, 6), dpi=300)\n",
    "\n",
    "results = np.array(results, dtype=float)\n",
    "colors = plt.cm.viridis(np.linspace(0, 1, snaps+1))\n",
    "\n",
    "for i in range(1, snaps+1):\n",
    "    ax.plot(results[:, 0], results[:, i],\n",
    "            label=f't={i*dt*iters:.2f}', color=colors[i])\n",
    "\n",
    "# Formatting\n",
    "ax.set_xlabel('$x$')\n",
    "ax.set_ylabel('$u(x,t)$')\n",
    "sm = plt.cm.ScalarMappable(cmap='viridis', norm=plt.Normalize(vmin=0, vmax=snaps*dt*iters))\n",
    "sm.set_array([])\n",
    "cbar = plt.colorbar(sm, ax=ax, label='Time')\n",
    "\n",
    "plt.show()"
   ]
  },
  {
   "cell_type": "code",
   "execution_count": null,
   "id": "eb0f9f74",
   "metadata": {},
   "outputs": [],
   "source": [
    "fig = plt.figure(figsize=(10, 8), dpi=300)\n",
    "ax = fig.add_subplot(111, projection='3d')\n",
    "\n",
    "# Prepare data for the 3D plot\n",
    "X = np.linspace(0, 1, m)  # spatial dimension\n",
    "T = np.linspace(0, snaps * dt * iters, snaps + 1)  # time dimension\n",
    "X, T = np.meshgrid(X, T)\n",
    "Z = z.T  # transpose z to match the dimensions of X and T\n",
    "\n",
    "surf = ax.plot_surface(X, T, Z, cmap='inferno', edgecolor='none')\n",
    "\n",
    "# Formatting\n",
    "ax.set_xlabel('$x$')\n",
    "ax.set_ylabel('$t$')\n",
    "ax.set_zlabel('$u(x,t)$')\n",
    "fig.colorbar(surf, ax=ax, label='Temperature', shrink=0.5)\n",
    "\n",
    "plt.show()"
   ]
  },
  {
   "cell_type": "markdown",
   "id": "63b2dd2f",
   "metadata": {
    "vscode": {
     "languageId": "plaintext"
    }
   },
   "source": [
    "## Crank–Nicolson method"
   ]
  },
  {
   "cell_type": "markdown",
   "id": "9e18447d",
   "metadata": {},
   "source": [
    "The example code solves the heat equation using the Crank-Nicolson method, which is second-order in space and time, and unconditionally stable.\n",
    "\n",
    "We have the PDE ($x \\in [0,1]$ and $t \\in [0, 0.1]$)\n",
    "$$\n",
    "u_t = u_{xx}\n",
    "$$\n",
    "with boundary conditions and initial conditions\n",
    "$$\n",
    "u(0,t) = u(1,t) = 0.\n",
    "$$\n",
    "\n",
    "This PDE has an exact solution\n",
    "$$\n",
    "u(x,t) = e^{-\\pi^2 t}\\sin(\\pi x)\n",
    "$$\n",
    "which we will use it to compute the L2 norm."
   ]
  },
  {
   "cell_type": "markdown",
   "id": "41d5fc0a",
   "metadata": {},
   "source": [
    "### Setup"
   ]
  },
  {
   "cell_type": "code",
   "execution_count": 2,
   "id": "1fe9762b",
   "metadata": {},
   "outputs": [],
   "source": [
    "# Solves the heat equation using the Crank-Nicolson method using\n",
    "# a given number of grid points, and computes the L2 norm to a reference\n",
    "# solution\n",
    "def c_n(m):\n",
    "    a = np.empty((m+1))\n",
    "    b = np.empty((m+1))\n",
    "\n",
    "    # Set grid spacing, timestep, and mu\n",
    "    dx = 1.0/m\n",
    "    dt = 0.1/m\n",
    "    mu = dt/(dx*dx)\n",
    "\n",
    "    # Set initial condition\n",
    "    for j in range(m+1):\n",
    "        a[j] = sin(j*pi*dx)\n",
    "    b[0] = 0\n",
    "    b[m] = 0\n",
    "\n",
    "    # Create linear system matrix for implicit step in Crank-Nicolson. Note\n",
    "    # that here the matrix is represented and solved using dense linear\n",
    "    # algebra, which is inefficient for large m. Using a dedicated tridiagonal\n",
    "    # solver would be more efficient.\n",
    "    A = np.diag(np.ones(m+1)*(1+mu)) + \\\n",
    "        np.diag(np.ones(m)*(-0.5*mu), 1) + \\\n",
    "        np.diag(np.ones(m)*(-0.5*mu), -1)\n",
    "    A[0, 0] = 1\n",
    "    A[0, 1] = 0\n",
    "    A[m, m] = 1\n",
    "    A[m, m-1] = 0\n",
    "\n",
    "    # Perform timesteps\n",
    "    for i in range(m):\n",
    "        for j in range(1, m):\n",
    "            b[j] = (1-mu)*a[j]+0.5*mu*(a[j-1]+a[j+1])\n",
    "        a = np.linalg.solve(A, b)\n",
    "\n",
    "    # Evaluate L2 norm to reference solution\n",
    "    s = 0\n",
    "    f = exp(-pi*pi*0.1)\n",
    "    for j in range(1, m):\n",
    "        du = a[j]-sin(j*pi*dx)*f\n",
    "        s += du*du\n",
    "    return sqrt(dx*s)"
   ]
  },
  {
   "cell_type": "markdown",
   "id": "6cf6a727",
   "metadata": {},
   "source": [
    "### Integrate the PDE"
   ]
  },
  {
   "cell_type": "code",
   "execution_count": null,
   "id": "5abee013",
   "metadata": {},
   "outputs": [],
   "source": [
    "# Store the results for plotting\n",
    "results = []\n",
    "\n",
    "# Loop over a range of grid sizes\n",
    "m = 4\n",
    "while m <= 512:\n",
    "\n",
    "    # Print the number of grid points, the grid spacing, and the L2 norm\n",
    "    # for Crank-Nicolson\n",
    "    print(m, 1.0/m, c_n(m))\n",
    "    results.append([m, 1.0/m, c_n(m)])\n",
    "\n",
    "    # Double the number of grid points\n",
    "    m *= 2"
   ]
  },
  {
   "cell_type": "markdown",
   "id": "8e7881db",
   "metadata": {},
   "source": [
    "### Visualize"
   ]
  },
  {
   "cell_type": "code",
   "execution_count": 4,
   "id": "f74b9074",
   "metadata": {},
   "outputs": [],
   "source": [
    "# Extract variables\n",
    "m = np.array([r[0] for r in results])\n",
    "dx = np.array([r[1] for r in results])\n",
    "cn = np.array([r[2] for r in results])"
   ]
  },
  {
   "cell_type": "code",
   "execution_count": null,
   "id": "ac5928c9",
   "metadata": {},
   "outputs": [],
   "source": [
    "fig, ax = plt.subplots(1, 1, figsize=(6, 4), dpi=300)\n",
    "ax.plot(m, cn, marker='o')\n",
    "\n",
    "# Formatting\n",
    "ax.set_xscale('log')\n",
    "ax.set_yscale('log')\n",
    "ax.set_xlabel('$m$')\n",
    "ax.set_ylabel('$L_2$ norm')\n",
    "ax.grid(True, which=\"major\", ls=\"--\", linewidth=0.5)\n",
    "ax.axis('equal')\n",
    "\n",
    "plt.show()"
   ]
  },
  {
   "cell_type": "code",
   "execution_count": null,
   "id": "a40264c4",
   "metadata": {},
   "outputs": [],
   "source": []
  }
 ],
 "metadata": {
  "kernelspec": {
   "display_name": ".venv",
   "language": "python",
   "name": "python3"
  },
  "language_info": {
   "codemirror_mode": {
    "name": "ipython",
    "version": 3
   },
   "file_extension": ".py",
   "mimetype": "text/x-python",
   "name": "python",
   "nbconvert_exporter": "python",
   "pygments_lexer": "ipython3",
   "version": "3.13.3"
  }
 },
 "nbformat": 4,
 "nbformat_minor": 5
}
