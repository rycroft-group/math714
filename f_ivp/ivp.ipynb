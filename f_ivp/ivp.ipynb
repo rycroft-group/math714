{
 "cells": [
  {
   "cell_type": "markdown",
   "id": "b5274569",
   "metadata": {},
   "source": [
    "[![Open In Colab](https://colab.research.google.com/assets/colab-badge.svg)](https://colab.research.google.com/github/rycroft-group/math714/blob/main/f_ivp/ivp.ipynb)"
   ]
  },
  {
   "cell_type": "code",
   "execution_count": null,
   "id": "20f52052",
   "metadata": {},
   "outputs": [],
   "source": [
    "import numpy as np\n",
    "from mpl_toolkits.mplot3d import Axes3D\n",
    "import matplotlib.pyplot as plt\n",
    "import sys\n",
    "\n",
    "# Optional: a library for plotting with LaTeX-like \n",
    "# styles nicer formatted figures\n",
    "# Warning: need to have LaTeX installed\n",
    "import scienceplots\n",
    "plt.style.use(['science'])"
   ]
  },
  {
   "cell_type": "markdown",
   "id": "98085ef5",
   "metadata": {},
   "source": [
    "# Initial value problems"
   ]
  },
  {
   "cell_type": "markdown",
   "id": "63b2dd2f",
   "metadata": {
    "vscode": {
     "languageId": "plaintext"
    }
   },
   "source": [
    "## Integrating the Rossler ODE system"
   ]
  },
  {
   "cell_type": "markdown",
   "id": "9e18447d",
   "metadata": {},
   "source": [
    "The R\\\"ossler attractor is a chaotic ODE system with three coupled equations\n",
    "$$\n",
    "\\begin{align*}\n",
    "x' & = -y -z, \\\\\n",
    "y' & = x+ay, \\\\\n",
    "z' & = b+ z(x-c).\n",
    "\\end{align*}\n",
    "$$\n",
    "Consider solving this system using the trapezoid method,\n",
    "$$\n",
    "U^{n+1} - U^n = \\frac{k\\left[f(U^n,t_n) + f(U^{n+1},t_{n+1})\\right]}{2}\n",
    "$$\n",
    "with $u(t) =\n",
    "        (x(t),y(t),z(t))$. To evaluate $U^{n+1}$, we must find a root\n",
    "of the equation\n",
    "$$\n",
    "F(U) = 2(U^n-U) + k \\left[f(U^n,t_n) + f(U,t_{n+1})\\right],\n",
    "$$\n",
    "where we will use Newton's method to perform the root-finding at each step."
   ]
  },
  {
   "cell_type": "markdown",
   "id": "41d5fc0a",
   "metadata": {},
   "source": [
    "### Problem setup"
   ]
  },
  {
   "cell_type": "code",
   "execution_count": null,
   "id": "1fe9762b",
   "metadata": {},
   "outputs": [],
   "source": [
    "# Constants in Rossler ODE system\n",
    "a = 0.2\n",
    "b = 0.2\n",
    "c = 5.7\n",
    "\n",
    "# Maximum number of Newton iterations\n",
    "max_nsteps = 100\n",
    "\n",
    "# Function to calculate derivatives x, y, and z in the Rossler attractor\n",
    "def f(U, t):\n",
    "    return np.array([-U[1]-U[2],\n",
    "                     U[0]+a*U[1],\n",
    "                     b+U[2]*(U[0]-c)])\n",
    "\n",
    "# Function F to perform root-finding on, to compute the trapezoid update\n",
    "# implicitly\n",
    "def F(U, U_n, t, k):\n",
    "    return 2*(U_n-U)+k*(f(U_n, t)+f(U, t+k))\n",
    "\n",
    "# Jacobian of F, required for the Newton iteration\n",
    "def J_F(U, t, k):\n",
    "    return np.array([[-2, -k, -k],\n",
    "                     [k, -2+a*k, 0],\n",
    "                     [k*U[2], 0, -2+k*(U[0]-c)]])\n",
    "\n",
    "\n",
    "# Initial condition, and step size\n",
    "t = 0\n",
    "U_n = np.array([-3., 0, 0])\n",
    "k = 0.02"
   ]
  },
  {
   "cell_type": "markdown",
   "id": "6cf6a727",
   "metadata": {},
   "source": [
    "### Integrate ODE"
   ]
  },
  {
   "cell_type": "code",
   "execution_count": null,
   "id": "5abee013",
   "metadata": {},
   "outputs": [],
   "source": [
    "# Store the results for plotting\n",
    "results = []\n",
    "\n",
    "# Perform timesteps\n",
    "print(t, U_n[0], U_n[1], U_n[2])\n",
    "while t < 600:\n",
    "\n",
    "    l = 0\n",
    "    q = 0\n",
    "    U = np.copy(U_n)\n",
    "\n",
    "    # Perform Newton updates until two steps are below a tolerance\n",
    "    while l < 2:\n",
    "\n",
    "        # Calculate Newton iteration\n",
    "        F_ = F(U, U_n, t, k)\n",
    "        U -= np.linalg.solve(J_F(U, t, k), F_)\n",
    "\n",
    "        # Check if the Newton iteration has converged\n",
    "        if np.linalg.norm(F_) < 1e-12:\n",
    "            l += 1\n",
    "        else:\n",
    "            l = 0\n",
    "\n",
    "        # Check for too many iterations\n",
    "        q += 1\n",
    "        if q == max_nsteps:\n",
    "            print(\"Too many Newton iterations\")\n",
    "            sys.exit()\n",
    "\n",
    "    # Update solution using the result of the Newton iteration\n",
    "    U_n = U\n",
    "    t += k\n",
    "    print(t, U_n[0], U_n[1], U_n[2], q)\n",
    "    # Store results for plotting\n",
    "    results.append([t, U_n[0], U_n[1], U_n[2]])"
   ]
  },
  {
   "cell_type": "markdown",
   "id": "8e7881db",
   "metadata": {},
   "source": [
    "### Visualize"
   ]
  },
  {
   "cell_type": "code",
   "execution_count": null,
   "id": "f74b9074",
   "metadata": {},
   "outputs": [],
   "source": [
    "# Extract time and x, y, z\n",
    "results = np.array(results)\n",
    "t = results[:, 0]\n",
    "x = results[:, 1]\n",
    "y = results[:, 2]\n",
    "z = results[:, 3]"
   ]
  },
  {
   "cell_type": "code",
   "execution_count": null,
   "id": "ac5928c9",
   "metadata": {},
   "outputs": [],
   "source": [
    "# %matplotlib ipympl\n",
    "\n",
    "fig = plt.figure(figsize=(7, 7))\n",
    "ax = fig.add_subplot(111, projection='3d')\n",
    "\n",
    "ax.plot(x, y, z, lw=0.5)\n",
    "ax.scatter(x, y, z, c=t, cmap='viridis', s=0.1)\n",
    "\n",
    "# Formatting\n",
    "ax.set_xlabel('$x$')\n",
    "ax.set_ylabel('$y$')\n",
    "ax.set_zlabel('$z$')\n",
    "\n",
    "plt.show()\n"
   ]
  },
  {
   "cell_type": "code",
   "execution_count": null,
   "id": "9e60520b",
   "metadata": {},
   "outputs": [],
   "source": [
    "from matplotlib.animation import FuncAnimation\n",
    "from IPython.display import HTML\n",
    "\n",
    "fig = plt.figure(figsize=(3, 3), dpi=50)\n",
    "ax = fig.add_subplot(111, projection='3d')\n",
    "ax.set_xlabel('$x$')\n",
    "ax.set_ylabel('$y$')\n",
    "ax.set_zlabel('$z$')\n",
    "ax.set_xlim((x.min(), x.max()))\n",
    "ax.set_ylim((y.min(), y.max()))\n",
    "ax.set_zlim((z.min(), z.max()))\n",
    "\n",
    "line, = ax.plot([], [], [], lw=0.5)\n",
    "point, = ax.plot([], [], [], 'o', color='red')\n",
    "time_text = ax.text2D(0.05, 0.95, '', transform=ax.transAxes)\n",
    "\n",
    "\n",
    "def init():\n",
    "    line.set_data([], [])\n",
    "    line.set_3d_properties([])\n",
    "    point.set_data([], [])\n",
    "    point.set_3d_properties([])\n",
    "    return line, point\n",
    "\n",
    "def animate(frame):\n",
    "    line.set_data(x[:frame], y[:frame])\n",
    "    line.set_3d_properties(z[:frame])\n",
    "    point.set_data([x[frame]], [y[frame]])\n",
    "    point.set_3d_properties([z[frame]])\n",
    "    return line, point\n",
    "\n",
    "ani = FuncAnimation(fig, animate, frames=len(t), init_func=init, blit=True, interval=10)\n",
    "plt.rcParams['animation.embed_limit'] = 1000\n",
    "\n",
    "HTML(ani.to_jshtml())"
   ]
  },
  {
   "cell_type": "code",
   "execution_count": null,
   "id": "ede68f0e",
   "metadata": {},
   "outputs": [],
   "source": []
  }
 ],
 "metadata": {
  "kernelspec": {
   "display_name": ".venv",
   "language": "python",
   "name": "python3"
  },
  "language_info": {
   "codemirror_mode": {
    "name": "ipython",
    "version": 3
   },
   "file_extension": ".py",
   "mimetype": "text/x-python",
   "name": "python",
   "nbconvert_exporter": "python",
   "pygments_lexer": "ipython3",
   "version": "3.13.3"
  }
 },
 "nbformat": 4,
 "nbformat_minor": 5
}
