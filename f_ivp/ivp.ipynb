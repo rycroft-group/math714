{
 "cells": [
  {
   "cell_type": "markdown",
   "id": "b5274569",
   "metadata": {},
   "source": [
    "[![Open In Colab](https://colab.research.google.com/assets/colab-badge.svg)](https://colab.research.google.com/github/rycroft-group/math714/blob/main/f_ivp/ivp.ipynb)"
   ]
  },
  {
   "cell_type": "code",
   "execution_count": null,
   "id": "20f52052",
   "metadata": {},
   "outputs": [],
   "source": [
    "import numpy as np\n",
    "from mpl_toolkits.mplot3d import Axes3D\n",
    "import matplotlib.pyplot as plt\n",
    "from math import sin, cos, exp, sqrt\n",
    "from scipy.integrate import ode\n",
    "import sys\n",
    "\n",
    "# Optional: a library for plotting with LaTeX-like \n",
    "# styles nicer formatted figures\n",
    "# Warning: need to have LaTeX installed\n",
    "import scienceplots\n",
    "plt.style.use(['science'])"
   ]
  },
  {
   "cell_type": "markdown",
   "id": "98085ef5",
   "metadata": {},
   "source": [
    "# Initial value problems"
   ]
  },
  {
   "cell_type": "markdown",
   "id": "63b2dd2f",
   "metadata": {
    "vscode": {
     "languageId": "plaintext"
    }
   },
   "source": [
    "## Integrating the Rossler ODE system"
   ]
  },
  {
   "cell_type": "markdown",
   "id": "9e18447d",
   "metadata": {},
   "source": [
    "The R\\\"ossler attractor is a chaotic ODE system with three coupled equations\n",
    "$$\n",
    "\\begin{align*}\n",
    "x' & = -y -z, \\\\\n",
    "y' & = x+ay, \\\\\n",
    "z' & = b+ z(x-c).\n",
    "\\end{align*}\n",
    "$$\n",
    "Consider solving this system using the trapezoid method,\n",
    "$$\n",
    "U^{n+1} - U^n = \\frac{k\\left[f(U^n,t_n) + f(U^{n+1},t_{n+1})\\right]}{2}\n",
    "$$\n",
    "with $u(t) =\n",
    "        (x(t),y(t),z(t))$. To evaluate $U^{n+1}$, we must find a root\n",
    "of the equation\n",
    "$$\n",
    "F(U) = 2(U^n-U) + k \\left[f(U^n,t_n) + f(U,t_{n+1})\\right],\n",
    "$$\n",
    "where we will use Newton's method to perform the root-finding at each step."
   ]
  },
  {
   "cell_type": "markdown",
   "id": "41d5fc0a",
   "metadata": {},
   "source": [
    "### Problem setup"
   ]
  },
  {
   "cell_type": "code",
   "execution_count": null,
   "id": "1fe9762b",
   "metadata": {},
   "outputs": [],
   "source": [
    "# Constants in Rossler ODE system\n",
    "a = 0.2\n",
    "b = 0.2\n",
    "c = 5.7\n",
    "\n",
    "# Maximum number of Newton iterations\n",
    "max_nsteps = 100\n",
    "\n",
    "# Function to calculate derivatives x, y, and z in the Rossler attractor\n",
    "def f(U, t):\n",
    "    return np.array([-U[1]-U[2],\n",
    "                     U[0]+a*U[1],\n",
    "                     b+U[2]*(U[0]-c)])\n",
    "\n",
    "# Function F to perform root-finding on, to compute the trapezoid update\n",
    "# implicitly\n",
    "def F(U, U_n, t, k):\n",
    "    return 2*(U_n-U)+k*(f(U_n, t)+f(U, t+k))\n",
    "\n",
    "# Jacobian of F, required for the Newton iteration\n",
    "def J_F(U, t, k):\n",
    "    return np.array([[-2, -k, -k],\n",
    "                     [k, -2+a*k, 0],\n",
    "                     [k*U[2], 0, -2+k*(U[0]-c)]])\n",
    "\n",
    "\n",
    "# Initial condition, and step size\n",
    "t = 0\n",
    "U_n = np.array([-3., 0, 0])\n",
    "k = 0.02"
   ]
  },
  {
   "cell_type": "markdown",
   "id": "6cf6a727",
   "metadata": {},
   "source": [
    "### Integrate ODE"
   ]
  },
  {
   "cell_type": "code",
   "execution_count": null,
   "id": "5abee013",
   "metadata": {},
   "outputs": [],
   "source": [
    "# Store the results for plotting\n",
    "results = []\n",
    "\n",
    "# Perform timesteps\n",
    "print(t, U_n[0], U_n[1], U_n[2])\n",
    "while t < 600:\n",
    "\n",
    "    l = 0\n",
    "    q = 0\n",
    "    U = np.copy(U_n)\n",
    "\n",
    "    # Perform Newton updates until two steps are below a tolerance\n",
    "    while l < 2:\n",
    "\n",
    "        # Calculate Newton iteration\n",
    "        F_ = F(U, U_n, t, k)\n",
    "        U -= np.linalg.solve(J_F(U, t, k), F_)\n",
    "\n",
    "        # Check if the Newton iteration has converged\n",
    "        if np.linalg.norm(F_) < 1e-12:\n",
    "            l += 1\n",
    "        else:\n",
    "            l = 0\n",
    "\n",
    "        # Check for too many iterations\n",
    "        q += 1\n",
    "        if q == max_nsteps:\n",
    "            print(\"Too many Newton iterations\")\n",
    "            sys.exit()\n",
    "\n",
    "    # Update solution using the result of the Newton iteration\n",
    "    U_n = U\n",
    "    t += k\n",
    "    print(t, U_n[0], U_n[1], U_n[2], q)\n",
    "    # Store results for plotting\n",
    "    results.append([t, U_n[0], U_n[1], U_n[2]])"
   ]
  },
  {
   "cell_type": "markdown",
   "id": "8e7881db",
   "metadata": {},
   "source": [
    "### Visualize"
   ]
  },
  {
   "cell_type": "code",
   "execution_count": null,
   "id": "f74b9074",
   "metadata": {},
   "outputs": [],
   "source": [
    "# Extract time and x, y, z\n",
    "results = np.array(results)\n",
    "t = results[:, 0]\n",
    "x = results[:, 1]\n",
    "y = results[:, 2]\n",
    "z = results[:, 3]"
   ]
  },
  {
   "cell_type": "code",
   "execution_count": null,
   "id": "ac5928c9",
   "metadata": {},
   "outputs": [],
   "source": [
    "# %matplotlib ipympl\n",
    "\n",
    "fig = plt.figure(figsize=(7, 7))\n",
    "ax = fig.add_subplot(111, projection='3d')\n",
    "\n",
    "ax.plot(x, y, z, lw=0.5)\n",
    "ax.scatter(x, y, z, c=t, cmap='viridis', s=0.1)\n",
    "\n",
    "# Formatting\n",
    "ax.set_xlabel('$x$')\n",
    "ax.set_ylabel('$y$')\n",
    "ax.set_zlabel('$z$')\n",
    "\n",
    "plt.show()\n"
   ]
  },
  {
   "cell_type": "code",
   "execution_count": null,
   "id": "9e60520b",
   "metadata": {},
   "outputs": [],
   "source": [
    "from matplotlib.animation import FuncAnimation\n",
    "from IPython.display import HTML\n",
    "\n",
    "fig = plt.figure(figsize=(3, 3), dpi=50)\n",
    "ax = fig.add_subplot(111, projection='3d')\n",
    "ax.set_xlabel('$x$')\n",
    "ax.set_ylabel('$y$')\n",
    "ax.set_zlabel('$z$')\n",
    "ax.set_xlim((x.min(), x.max()))\n",
    "ax.set_ylim((y.min(), y.max()))\n",
    "ax.set_zlim((z.min(), z.max()))\n",
    "\n",
    "line, = ax.plot([], [], [], lw=0.5)\n",
    "point, = ax.plot([], [], [], 'o', color='red')\n",
    "time_text = ax.text2D(0.05, 0.95, '', transform=ax.transAxes)\n",
    "\n",
    "\n",
    "def init():\n",
    "    line.set_data([], [])\n",
    "    line.set_3d_properties([])\n",
    "    point.set_data([], [])\n",
    "    point.set_3d_properties([])\n",
    "    return line, point\n",
    "\n",
    "def animate(frame):\n",
    "    line.set_data(x[:frame], y[:frame])\n",
    "    line.set_3d_properties(z[:frame])\n",
    "    point.set_data([x[frame]], [y[frame]])\n",
    "    point.set_3d_properties([z[frame]])\n",
    "    return line, point\n",
    "\n",
    "ani = FuncAnimation(fig, animate, frames=len(t), init_func=init, blit=True, interval=10)\n",
    "plt.rcParams['animation.embed_limit'] = 1000\n",
    "\n",
    "HTML(ani.to_jshtml())"
   ]
  },
  {
   "cell_type": "markdown",
   "id": "d9c84441",
   "metadata": {},
   "source": [
    "## Stability of multistep methods"
   ]
  },
  {
   "cell_type": "markdown",
   "id": "fe08919a",
   "metadata": {},
   "source": [
    "The code integrates three different multistep schemes:\n",
    "- Stable:\n",
    "    $$\n",
    "    24U^{n+3} - 24U^{n+2} = k(9f(U^{n+3})+19f(U^{n+2}) - 5f(U^{n+1}) + f(U^n))\n",
    "    $$\n",
    "- Exponentially unstable:\n",
    "    $$\n",
    "    11U^{n+3}+27U^{n+2}-27U^{n+1}-11U^n = 3k(f(U^{n+3}) + 9f(U^{n+2}) + 9 f(U^{n+1}) + f(U^n))\n",
    "    $$\n",
    "- Algebraically unstable:\n",
    "    $$\n",
    "    U^{n+3} + U^{n+2} - U^{n+1} - U^{n} = 2k(f(U^{n+2})+ f(U^{n+1}))\n",
    "    $$"
   ]
  },
  {
   "cell_type": "markdown",
   "id": "989dd52e",
   "metadata": {},
   "source": [
    "### Set up functions"
   ]
  },
  {
   "cell_type": "code",
   "execution_count": null,
   "id": "ede68f0e",
   "metadata": {},
   "outputs": [],
   "source": [
    "# Function right hand side\n",
    "def fun(t, u):\n",
    "    return sin(t)-u\n",
    "\n",
    "# Exact solution\n",
    "def u_exact(t):\n",
    "    return 0.5*(sin(t)-cos(t))+1.5*exp(-t)\n",
    "\n",
    "# Integrate based on method\n",
    "def integrate(method, fun=fun, u_exact=u_exact, output=False):\n",
    "    # Total steps\n",
    "    M = 101\n",
    "    # Step size, and arrays for solution\n",
    "    k = 10/(M-1)\n",
    "    t = np.linspace(0, 10, M)\n",
    "    f = np.empty((M))\n",
    "    u = np.empty((M))\n",
    "\n",
    "    # Populate the first few entries with the exact solution\n",
    "    u[0:3] = [u_exact(z) for z in t[0:3]]\n",
    "    f[0:3] = [fun(t[i], u[i]) for i in range(0, 3)]\n",
    "\n",
    "    # Perform the steps of the method\n",
    "    for n in range(0, M-3):\n",
    "        # Stable\n",
    "        if method == 0:\n",
    "            u[n+3] = (u[n+2]+k*(9*sin(t[n+3])+19*f[n+2]-5*f[n+1]+f[n])/24) \\\n",
    "                / (1+9*k/24)\n",
    "        # Exponentially unstable\n",
    "        elif method == 1:\n",
    "            u[n+3] = (-27*u[n+2]+27*u[n+1]+11*u[n]\n",
    "                    + 3*k*(sin(t[n+3])+9*f[n+2]+9*f[n+1]+f[n])) \\\n",
    "                / (11+3*k)\n",
    "        # Algebraically unstable\n",
    "        else:\n",
    "            u[n+3] = -u[n+2]+u[n+1]+u[n]+2*k*(f[n+2]+f[n+1])\n",
    "        f[n+3] = fun(t[n+3], u[n+3])\n",
    "\n",
    "    # Output the results\n",
    "    if output:\n",
    "        for n in range(0, M):\n",
    "            ue = u_exact(t[n])\n",
    "            print(t[n], u[n], f[n], ue, u[n]-ue)\n",
    "\n",
    "    # Return the results\n",
    "    ue = np.array([u_exact(tn) for tn in t])\n",
    "    err = u - ue\n",
    "    return t, u, f, ue, err"
   ]
  },
  {
   "cell_type": "markdown",
   "id": "921c3902",
   "metadata": {},
   "source": [
    "### Solve"
   ]
  },
  {
   "cell_type": "code",
   "execution_count": null,
   "id": "91c2c562",
   "metadata": {},
   "outputs": [],
   "source": [
    "# Method:\n",
    "# 0: stable\n",
    "# 1: exponentially unstable\n",
    "# 2: algebraically unstable\n",
    "\n",
    "t0, u0, f0, ue0, err0 = integrate(method=0, output=False)\n",
    "t1, u1, f1, ue1, err1 = integrate(method=1, output=False)\n",
    "t2, u2, f2, ue2, err2 = integrate(method=2, output=False)"
   ]
  },
  {
   "cell_type": "markdown",
   "id": "8851f2cd",
   "metadata": {},
   "source": [
    "### Visualize"
   ]
  },
  {
   "cell_type": "code",
   "execution_count": null,
   "id": "d913d263",
   "metadata": {},
   "outputs": [],
   "source": [
    "fig, ax = plt.subplots(1, 1, figsize=(6, 4), dpi=300)\n",
    "\n",
    "# Plot numerical and exact solutions\n",
    "ax.plot(t0, ue0, label='Exact solution', color='red', linestyle='--', lw=2)\n",
    "ax.plot(t0, u0, label='Method 0', color='blue')\n",
    "ax.plot(t1, u1, label='Method 1', color='green')\n",
    "ax.plot(t2, u2, label='Method 2', color='orange')\n",
    "\n",
    "# Formatting\n",
    "ax.set_xlabel('$t$')\n",
    "ax.set_ylabel('$u$')\n",
    "ax.legend(loc='lower left')\n",
    "ax.set_ylim(-1, 3)\n",
    "\n",
    "plt.show()"
   ]
  },
  {
   "cell_type": "markdown",
   "id": "7f905222",
   "metadata": {},
   "source": [
    "## Stability calculation for other methods"
   ]
  },
  {
   "cell_type": "markdown",
   "id": "67957890",
   "metadata": {},
   "source": [
    "This example computes the stability region for several multi-step methods in the BDF (backward differentiation formula) family:\n",
    "\n",
    "- $11U^{n+3}-18U^{n+2} +9U^{n+1} - 2U^n = 6k f(U^{n+3})$\n",
    "- $25U^{n+4}-48U^{n+3}+36U^{n+2} - 16U^{n+1} + 3U^n = 12k f(U^{n+4})$\n",
    "- $137U^{n+5} - 300U^{n+4} + 300U^{n+3} - 200 U^{n+2} + 75 U^{n+1} -12 U^n = 60k f(U^{n+5})$\n",
    "\n",
    "For each position $z$ in the complex plane, the program computes the maximum modulus of a root of $\\pi(\\zeta;z)$."
   ]
  },
  {
   "cell_type": "code",
   "execution_count": null,
   "id": "21241566",
   "metadata": {},
   "outputs": [],
   "source": [
    "# Polynomial coefficients\n",
    "pol = np.array([11, -18, 9, -2.], dtype=complex); coeff = 6.\n",
    "# pol=np.array([25,-48,36,-16,3],dtype=complex); coeff=12\n",
    "# pol=np.array([137,-300,300,-200,75,-12],dtype=complex); coeff=60\n",
    "\n",
    "# Computes the maximum magnitude of the root of the stability polynomial\n",
    "# for lambda*h=x+y*i\n",
    "def f(x, y):\n",
    "    a = np.copy(pol)\n",
    "    a[0] -= coeff*(x+1j*y)\n",
    "    return np.max(np.abs(np.roots(a)))\n",
    "\n",
    "\n",
    "# Plot results - find the 1 contour of max_r(|z_r(lambda*h)|) function\n",
    "n = 129\n",
    "xx = np.linspace(-20, 20, n)\n",
    "yy = np.linspace(-20, 20, n)\n",
    "X, Y = np.meshgrid(xx, yy)\n",
    "pxy = np.empty((n, n))\n",
    "for i in range(n):\n",
    "    for j in range(n):\n",
    "        pxy[j, i] = sqrt(f(xx[i], yy[j]))\n",
    "\n",
    "fig, ax = plt.subplots(1, 1, figsize=(4, 4), dpi=300)\n",
    "plt.contourf(X, Y, pxy, 16, alpha=.75)\n",
    "plt.contour(X, Y, pxy, levels=[1], colors='black')\n",
    "\n",
    "# Formatting\n",
    "ax.set_xlabel(r'Re$(z)$')\n",
    "ax.set_ylabel(r'Im$(z)$')\n",
    "ax.axis('equal')\n",
    "plt.show()"
   ]
  },
  {
   "cell_type": "markdown",
   "id": "f3d26ced",
   "metadata": {},
   "source": [
    "## Stiff systems"
   ]
  },
  {
   "cell_type": "markdown",
   "id": "9158e1ea",
   "metadata": {},
   "source": [
    "### Explicit"
   ]
  },
  {
   "cell_type": "code",
   "execution_count": null,
   "id": "f308e0fc",
   "metadata": {},
   "outputs": [],
   "source": [
    "# Matrices\n",
    "a = np.array([[998, 1998], [-999, -1999]])\n",
    "i = np.identity(2)\n",
    "\n",
    "# Initial conditions\n",
    "ue = np.array([[1], [0]])\n",
    "ui = np.array([[1], [0]])\n",
    "\n",
    "# Starting time and timestep (currently chosen within the stability region of\n",
    "# the explicit method)\n",
    "t = 0\n",
    "k = 0.02\n",
    "\n",
    "# Store results\n",
    "results_explicit = []\n",
    "\n",
    "while t < 2:\n",
    "    \n",
    "    # Print solutions and exact solution\n",
    "    ex1 = 2*exp(-t)-exp(-1000*t)\n",
    "    ex2 = -exp(-t)+exp(-1000*t)\n",
    "    print(t, ex1, ex2, ue[0, 0], ue[1, 0], ui[0, 0], ui[1, 0])\n",
    "    results_explicit.append([t, ue[0, 0], ue[1, 0], ui[0, 0], ui[1, 0]])\n",
    "\n",
    "    # Explicit step\n",
    "    ue = ue+k*np.dot(a, ue)\n",
    "\n",
    "    # Implicit step\n",
    "    ui = np.linalg.solve(i-k*a, ui)\n",
    "    t += k"
   ]
  },
  {
   "cell_type": "markdown",
   "id": "2029c702",
   "metadata": {},
   "source": [
    "### Implicit"
   ]
  },
  {
   "cell_type": "code",
   "execution_count": null,
   "id": "2bbc5773",
   "metadata": {},
   "outputs": [],
   "source": [
    "# Function\n",
    "def f(t, y, arg1):\n",
    "    return [998*y[0]+1998*y[1], -999*y[0]-1999*y[1]]\n",
    "\n",
    "\n",
    "# Initial conditions\n",
    "yinit = [1, 0]\n",
    "\n",
    "# Set up stiff integrator and parameters\n",
    "r = ode(f).set_integrator('zvode', method='bdf')\n",
    "r.set_initial_value(yinit, 0).set_f_params(2.0).set_jac_params(2.0)\n",
    "h = 0.05\n",
    "\n",
    "# Store results\n",
    "results_implicit = []\n",
    "\n",
    "# Loop while the time is less than 2\n",
    "while r.successful() and r.t < 2:\n",
    "    \n",
    "    r.integrate(r.t+h)\n",
    "\n",
    "    # Print solution and comparison with exact answer\n",
    "    ex1 = 2*exp(-r.t)-exp(-1000*r.t)\n",
    "    ex2 = -exp(-r.t)+exp(-1000*r.t)\n",
    "    print(r.t, float(r.y[0]), float(r.y[1]), ex1,\n",
    "          ex2, float(r.y[0])-ex1, float(r.y[1])-ex2)\n",
    "    results_implicit.append([r.t, float(r.y[0]), float(r.y[1]), ex1, ex2,\n",
    "                             float(r.y[0])-ex1, float(r.y[1])-ex2])"
   ]
  },
  {
   "cell_type": "markdown",
   "id": "df7f4686",
   "metadata": {},
   "source": [
    "### Plotting"
   ]
  },
  {
   "cell_type": "code",
   "execution_count": null,
   "id": "24c79151",
   "metadata": {},
   "outputs": [],
   "source": [
    "# Extract variables\n",
    "results_explicit = np.array(results_explicit)\n",
    "results_implicit = np.array(results_implicit)\n",
    "time_explicit = results_explicit[:, 0]\n",
    "u1_explicit = results_explicit[:, 1]\n",
    "u2_explicit = results_explicit[:, 2]\n",
    "time_implicit = results_implicit[:, 0]\n",
    "u1_implicit = results_implicit[:, 1]\n",
    "u2_implicit = results_implicit[:, 2]\n",
    "\n",
    "# Plot the results\n",
    "fig, axs = plt.subplots(2, 2, figsize=(6, 4), dpi=300)\n",
    "\n",
    "# Explicit\n",
    "axs[0,0].plot(time_explicit, u1_explicit, label='Explicit $u_1$', color='blue', linestyle=':')\n",
    "axs[0,0].set_xlabel('$t$')\n",
    "axs[0,0].set_ylabel('$u_1$')\n",
    "axs[0,0].legend()\n",
    "axs[0,1].plot(time_explicit, u2_explicit, label='Explicit $u_2$', color='blue', linestyle=':')\n",
    "axs[0,1].set_xlabel('$t$')\n",
    "axs[0,1].set_ylabel('$u_2$')\n",
    "axs[0,1].legend()\n",
    "\n",
    "# Implicit\n",
    "axs[1,0].plot(time_implicit, u1_implicit, label='Implicit $u_1$', color='green', linestyle='--')\n",
    "axs[1,0].set_xlabel('$t$')\n",
    "axs[1,0].set_ylabel('$u_1$')\n",
    "axs[1,0].legend()\n",
    "axs[1,1].plot(time_implicit, u2_implicit, label='Implicit $u_2$', color='green', linestyle='--')\n",
    "axs[1,1].set_xlabel('$t$')\n",
    "axs[1,1].set_ylabel('$u_2$')\n",
    "axs[1,1].legend()\n",
    "\n",
    "plt.show()"
   ]
  },
  {
   "cell_type": "markdown",
   "id": "8939893f",
   "metadata": {},
   "source": [
    "## L-stability"
   ]
  },
  {
   "cell_type": "markdown",
   "id": "5f4cad99",
   "metadata": {},
   "source": [
    "It is preferable to have rapid decay of terms with large negative $\\lambda$. This example demonstrates this for the trapezoid rule applied to the example stiff ODE."
   ]
  },
  {
   "cell_type": "markdown",
   "id": "6ff9082d",
   "metadata": {},
   "source": [
    "### Trapezoid method"
   ]
  },
  {
   "cell_type": "code",
   "execution_count": null,
   "id": "78493e73",
   "metadata": {},
   "outputs": [],
   "source": [
    "# Matrices\n",
    "a = np.array([[998, 1998], [-999, -1999]])\n",
    "i = np.identity(2)\n",
    "\n",
    "# Initial conditions\n",
    "ut = np.array([[1], [0]])\n",
    "ui = np.array([[1], [0]])\n",
    "\n",
    "# Starting time and timestep (currently chosen within the stability region of\n",
    "# the explicit method)\n",
    "t = 0\n",
    "k = 0.1\n",
    "\n",
    "# Store results\n",
    "results = []\n",
    "\n",
    "while t < 10:\n",
    "\n",
    "    # Print solutions and exact solution\n",
    "    ex1 = 2*exp(-t)-exp(-1000*t)\n",
    "    ex2 = -exp(-t)+exp(-1000*t)\n",
    "    print(t, ex1, ex2, ut[0, 0], ut[1, 0], ui[0, 0], ui[1, 0])\n",
    "    results.append([t, ut[0, 0], ut[1, 0], ui[0, 0], ui[1, 0]])\n",
    "\n",
    "    # Trapezoid step\n",
    "    tmp = ut+0.5*k*np.dot(a, ut)\n",
    "    ut = np.linalg.solve(i-0.5*k*a, tmp)\n",
    "\n",
    "    # Implicit step\n",
    "    ui = np.linalg.solve(i-k*a, ui)\n",
    "    t += k"
   ]
  },
  {
   "cell_type": "markdown",
   "id": "80c87f49",
   "metadata": {},
   "source": [
    "### Plotting"
   ]
  },
  {
   "cell_type": "code",
   "execution_count": null,
   "id": "3bd65973",
   "metadata": {},
   "outputs": [],
   "source": [
    "# Extract variables\n",
    "results = np.array(results)\n",
    "time = results[:, 0]\n",
    "u1_explicit = results[:, 1]\n",
    "u2_explicit = results[:, 2]\n",
    "u1_implicit = results[:, 3]\n",
    "u2_implicit = results[:, 4]\n",
    "\n",
    "# Plot the results\n",
    "fig, axs = plt.subplots(2, 2, figsize=(6, 4), dpi=300)\n",
    "\n",
    "# Explicit\n",
    "axs[0,0].plot(time, u1_explicit, label='Explicit $u_1$', color='blue', linestyle=':')\n",
    "axs[0,0].set_xlabel('$t$')\n",
    "axs[0,0].set_ylabel('$u_1$')\n",
    "axs[0,0].legend()\n",
    "axs[0,1].plot(time, u2_explicit, label='Explicit $u_2$', color='blue', linestyle=':')\n",
    "axs[0,1].set_xlabel('$t$')\n",
    "axs[0,1].set_ylabel('$u_2$')\n",
    "axs[0,1].legend()\n",
    "\n",
    "# Implicit\n",
    "axs[1,0].plot(time, u1_implicit, label='Implicit $u_1$', color='green', linestyle='--')\n",
    "axs[1,0].set_xlabel('$t$')\n",
    "axs[1,0].set_ylabel('$u_1$')\n",
    "axs[1,0].legend()\n",
    "axs[1,1].plot(time, u2_implicit, label='Implicit $u_2$', color='green', linestyle='--')\n",
    "axs[1,1].set_xlabel('$t$')\n",
    "axs[1,1].set_ylabel('$u_2$')\n",
    "axs[1,1].legend()\n",
    "\n",
    "plt.show()"
   ]
  },
  {
   "cell_type": "code",
   "execution_count": null,
   "id": "9ec8fa1b",
   "metadata": {},
   "outputs": [],
   "source": []
  }
 ],
 "metadata": {
  "kernelspec": {
   "display_name": ".venv",
   "language": "python",
   "name": "python3"
  },
  "language_info": {
   "codemirror_mode": {
    "name": "ipython",
    "version": 3
   },
   "file_extension": ".py",
   "mimetype": "text/x-python",
   "name": "python",
   "nbconvert_exporter": "python",
   "pygments_lexer": "ipython3",
   "version": "3.13.3"
  }
 },
 "nbformat": 4,
 "nbformat_minor": 5
}
